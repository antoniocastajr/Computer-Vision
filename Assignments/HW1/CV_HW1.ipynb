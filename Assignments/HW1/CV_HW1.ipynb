{
  "cells": [
    {
      "cell_type": "markdown",
      "metadata": {
        "id": "BnBl5P2msqoc"
      },
      "source": [
        "# ***CS 512 -- COMPUTER VISION -- FIRST ASSIGNMENT***\n",
        "\n",
        "\n",
        "---\n",
        "\n",
        "\n",
        "***Fall 2024, 09/22/2024***\n",
        "\n",
        "**Antonio Castañares A20599898**\n",
        "\n"
      ]
    },
    {
      "cell_type": "code",
      "execution_count": 1,
      "metadata": {
        "id": "2ptVCaRulzzu"
      },
      "outputs": [],
      "source": [
        "#pip3 install opencv-python\n",
        "import numpy as np\n",
        "import cv2 as cv"
      ]
    },
    {
      "cell_type": "markdown",
      "metadata": {
        "id": "EAhQgxmftekQ"
      },
      "source": [
        "***First Question:***\n",
        "\n",
        "**Homogeneous Coordinates Representation (2D)**:  Let **x = (2,3)** be\n",
        "a point in 2D Cartesian coordinates.\n",
        "\n",
        "• Convert the point x into homogeneous coordinates **$x_{h}$**.\n",
        "\n",
        "• Find another point in 2D homogeneous coordinates that is equivalent\n",
        "to the same point **x** (use a different scale).\n",
        "\n",
        "• Convert both homogeneous coordinates back to Cartesian coordinates and verify they represent the same point."
      ]
    },
    {
      "cell_type": "code",
      "execution_count": 2,
      "metadata": {
        "colab": {
          "base_uri": "https://localhost:8080/"
        },
        "id": "t-ifSgBfuJG9",
        "outputId": "4210f079-49f9-41c8-d2d3-7955c7778e63"
      },
      "outputs": [
        {
          "name": "stdout",
          "output_type": "stream",
          "text": [
            "Result first point:  [2 3 1]\n",
            "Result second point:  [4 6 2]\n",
            "Result third point: x = [2 3], first homogeneous coordinate: [2 3], second homogeneous coordinate: [2. 3.]\n",
            "---Comprobations---\n",
            "Are each result correct? True and True\n"
          ]
        }
      ],
      "source": [
        "# Initilization\n",
        "x = np.array([2, 3])\n",
        "\n",
        "# Convert the point x into homogeneous coordinates  xh\n",
        "x_h = np.append(x, 1)\n",
        "\n",
        "# Find another point in 2D homogeneous coordinates that is equivalent to the same point x (use a different scale).\n",
        "equivalent_x_h = x_h * 2\n",
        "\n",
        "# Convert both homogeneous coordinates back to Cartesian coordinates and verify they represent the same point.\n",
        "cartesian_x_h = x_h[:2] // x_h[2]\n",
        "cartesian_equivalent_x_h = equivalent_x_h[:2] / equivalent_x_h[2]\n",
        "\n",
        "# Comprobations\n",
        "print(\"Result first point: \",x_h)\n",
        "print(\"Result second point: \",equivalent_x_h)\n",
        "print(f\"Result third point: x = {x}, first homogeneous coordinate: {cartesian_x_h}, second homogeneous coordinate: {cartesian_equivalent_x_h}\")\n",
        "print(\"---Comprobations---\")\n",
        "print(f\"Are each result correct? {np.array_equal(x, cartesian_x_h)} and {np.array_equal(x,cartesian_equivalent_x_h)}\")\n",
        "\n"
      ]
    },
    {
      "cell_type": "markdown",
      "metadata": {
        "id": "jGnROyBLtzDE"
      },
      "source": [
        "***Second question:***\n",
        "\n",
        "**Homogeneous Coordinates Representation (3D):** Let **y = (4,5,6)**\n",
        "be a point in 3D Cartesian coordinates.\n",
        "\n",
        "• Convert **y** to its homogeneous coordinates representation.\n",
        "\n",
        "• Now, consider the homogeneous point yh = (4, 5, 6, 1). Scale it by a\n",
        "factor of 2 and convert back to Cartesian coordinates.\n",
        "\n",
        "• Verify the result matches the original point **y**."
      ]
    },
    {
      "cell_type": "code",
      "execution_count": 3,
      "metadata": {
        "colab": {
          "base_uri": "https://localhost:8080/"
        },
        "id": "yw1rAc3Im3Y1",
        "outputId": "d7cdc592-1eb3-4460-8ed4-880e3c146818"
      },
      "outputs": [
        {
          "name": "stdout",
          "output_type": "stream",
          "text": [
            "Result first point: y = [4 5 6], y_h = [4 5 6 1]\n",
            "Result second point: scaled_y_h = [ 8 10 12  2], cartesian_scaled_y_h = [4. 5. 6.]\n",
            "---Comprobations---\n",
            "Are the result correct? True\n"
          ]
        }
      ],
      "source": [
        "# Initialization\n",
        "y = np.array([4,5,6])\n",
        "\n",
        "# Convert y to its homogeneous coordinates representation.\n",
        "y_h = np.append(y, 1)\n",
        "\n",
        "# Now, consider the homogeneous point yh = (4, 5, 6, 1). Scale it by a factor of 2 and convert back to Cartesian coordinates.\n",
        "scaled_y_h = y_h * 2\n",
        "cartesian_scaled_y_h = scaled_y_h[:3] / scaled_y_h[3]\n",
        "\n",
        "# Verify the result matches the original point y.\n",
        "print(f\"Result first point: y = {y}, y_h = {y_h}\")\n",
        "print(f\"Result second point: scaled_y_h = {scaled_y_h}, cartesian_scaled_y_h = {cartesian_scaled_y_h}\")\n",
        "print(\"---Comprobations---\")\n",
        "print(f\"Are the result correct? {np.array_equal(y, cartesian_scaled_y_h)}\")"
      ]
    },
    {
      "cell_type": "markdown",
      "metadata": {
        "id": "uHfn_Aj2uH0D"
      },
      "source": [
        "***Third question:***\n",
        "\n",
        "**Affine Transformations in 2D:** Given a point **p = (1,2)** in 2D, apply\n",
        "the following transformations in the specified order:\n",
        "\n",
        "• Scale by a factor of 3.\n",
        "\n",
        "• Rotate counterclockwise by 45◦.\n",
        "\n",
        "• Translate by (2,3)\n",
        "\n",
        "Compute the transformation matrix in homogeneous coordinates for\n",
        "each step. Then, apply the combined transformation to the point\n",
        "**p**. Finally, verify your result by applying the transformations using\n",
        "NumPy."
      ]
    },
    {
      "cell_type": "code",
      "execution_count": 4,
      "metadata": {
        "colab": {
          "base_uri": "https://localhost:8080/"
        },
        "id": "zIhw6SEHuWWp",
        "outputId": "e58cb6eb-f19a-49be-c56d-760abbf01409"
      },
      "outputs": [
        {
          "name": "stdout",
          "output_type": "stream",
          "text": [
            "Final position: x = -0.12132034355964283, y = 9.36396103067893\n"
          ]
        }
      ],
      "source": [
        "\"\"\"\n",
        "  This function applies an affine transformation to a point in 2D. It uses in questions 3 and 4 to avoid redundant code.\n",
        "  Parameters:\n",
        "    point: The point to be transformed.\n",
        "    scale: The scale factor.\n",
        "    angle: The angle of rotation in degrees.\n",
        "    translation: The translation vector.\n",
        "    inverse_path: If True, the transformation is applied in reverse order.\n",
        "  Returns:\n",
        "    The transformed point.\n",
        "\"\"\"\n",
        "\n",
        "def affine_transformation(point,scale,angle,translation,inverse_path):\n",
        "  # Initializations\n",
        "  p_h = np.array([point[0],point[1],1])\n",
        "\n",
        "  # Scale by a factor\n",
        "  scale_matrix = np.array([[scale,0,0],[0,scale,0],[0,0,1]])\n",
        "\n",
        "  # Rotate counterclockwise by\n",
        "  rotation_matrix = np.array([[np.cos(np.radians(angle)), -np.sin(np.radians(angle)), 0],[np.sin(np.radians(angle)), np.cos(np.radians(angle)), 0],[0,0,1]])\n",
        "\n",
        "  # Translate by\n",
        "  translation_matrix = np.array([[1,0,translation[0]],[0,1,translation[1]],[0,0,1]])\n",
        "\n",
        "  # Final transportation matrix\n",
        "  if(not inverse_path):\n",
        "    transformation_matrix = translation_matrix @ rotation_matrix @ scale_matrix\n",
        "  else:\n",
        "    transformation_matrix = scale_matrix @ rotation_matrix @ translation_matrix\n",
        "\n",
        "  # Final result\n",
        "  result = transformation_matrix @ p_h\n",
        "\n",
        "  return np.array([result[0] / result[2], result[1] / result[2]])\n",
        "\n",
        "\n",
        "# Results:\n",
        "x,y = affine_transformation(np.array([1,2]),3,45,np.array([2,3]),False)\n",
        "print(f\"Final position: x = {x}, y = {y}\")\n"
      ]
    },
    {
      "cell_type": "markdown",
      "metadata": {
        "id": "GM6B960fuj2Z"
      },
      "source": [
        "***Fourth question:***\n",
        "\n",
        "**Inverse Transformations (2D):** Let **q = (3,4)** be a point in 2D, and\n",
        "assume the following transformations have been applied:\n",
        "\n",
        "• Scale by 2.\n",
        "\n",
        "• Rotate by 30◦.\n",
        "\n",
        "• Translate by (5,5).\n",
        "\n",
        "Compute the matrix that reverses these transformations. Apply the\n",
        "inverse matrix to return **q** to its original position. Verify the result\n",
        "using Numpy."
      ]
    },
    {
      "cell_type": "code",
      "execution_count": 5,
      "metadata": {
        "colab": {
          "base_uri": "https://localhost:8080/"
        },
        "id": "4jZkqZ8Lr62s",
        "outputId": "0eea0352-8fa4-438a-bf8c-b2448d3f5da7"
      },
      "outputs": [
        {
          "name": "stdout",
          "output_type": "stream",
          "text": [
            "Final position: x = -1.1160254037844388, y = 0.06698729810778048\n",
            "---Comprobations---\n",
            "Should return (3,4) because we did the inverse path: x = 2.9999999999999996, y = 3.9999999999999996\n",
            "Are both results the same?  True\n"
          ]
        }
      ],
      "source": [
        "# Initializations\n",
        "q = np.array([3,4])\n",
        "\n",
        "# Results\n",
        "x,y = affine_transformation(q,1/2,-30,np.array([-5,-5]),True)\n",
        "print(f\"Final position: x = {x}, y = {y}\")\n",
        "\n",
        "# Now, we are gonna do the inverse path to check the results\n",
        "x,y = affine_transformation(np.array([x,y]),2,30,np.array([5,5]),False)\n",
        "print(\"---Comprobations---\")\n",
        "print(f\"Should return (3,4) because we did the inverse path: x = {x}, y = {y}\")\n",
        "print(\"Are both results the same? \", np.array_equal(np.round(q, 3),np.round(np.array([x,y]), 3)))"
      ]
    },
    {
      "cell_type": "markdown",
      "metadata": {
        "id": "eL6E-tp15H_0"
      },
      "source": [
        "***Fifth question***\n",
        "\n",
        "**Transformations between 3D coordinate systems:** Consider two 3D\n",
        "coordinate systems:\n",
        "\n",
        "• System A has its origin at (1,1,1) and is aligned with the world axes.\n",
        "\n",
        "• System B has its origin at (2,2,2) and is rotated by 90◦ around the\n",
        "Z-axis.\n",
        "\n",
        "A point **r = (3,3,3)** is given in System A. Compute the transformation matrix to convert this point to System B’s coordinates and\n",
        "apply it to r."
      ]
    },
    {
      "cell_type": "code",
      "execution_count": 6,
      "metadata": {
        "colab": {
          "base_uri": "https://localhost:8080/"
        },
        "id": "yNZbi-1K5HT0",
        "outputId": "3f339a1b-3544-4d3b-e382-3552c1f0c394"
      },
      "outputs": [
        {
          "name": "stdout",
          "output_type": "stream",
          "text": [
            "Translation matrix: \n",
            " [[1 0 0 1]\n",
            " [0 1 0 1]\n",
            " [0 0 1 1]\n",
            " [0 0 0 1]]\n",
            "Result step 1: [4 4 4 1]\n",
            "Rotation matrix: \n",
            " [[ 0. -1.  0.  0.]\n",
            " [ 1.  0.  0.  0.]\n",
            " [ 0.  0.  1.  0.]\n",
            " [ 0.  0.  0.  1.]]\n",
            "Result step 2:  [-4.  4.  4.  1.]\n",
            "Second translation matrix: \n",
            " [[ 1  0  0 -2]\n",
            " [ 0  1  0 -2]\n",
            " [ 0  0  1 -2]\n",
            " [ 0  0  0  1]]\n",
            "Result step 3:  [-6.  2.  2.  1.]\n",
            "---Comprobations---\n",
            "Transformation matrix: \n",
            " [[ 0. -1.  0. -3.]\n",
            " [ 1.  0.  0. -1.]\n",
            " [ 0.  0.  1. -1.]\n",
            " [ 0.  0.  0.  1.]]\n",
            "Result obtained based on this matrix: [-6.  2.  2.  1.]\n",
            "Are both results the same?  True\n"
          ]
        }
      ],
      "source": [
        "# Initialization\n",
        "r = np.array([3,3,3,1])   # r point in System  A\n",
        "\n",
        "# From System A to World coordinates (origin at (0,0,0))\n",
        "translation_matrix = np.array([[1,0,0,1],[0,1,0,1],[0,0,1,1],[0,0,0,1]])\n",
        "r1 = translation_matrix @ r\n",
        "print(\"Translation matrix: \\n\",translation_matrix)\n",
        "print(\"Result step 1:\",r1)\n",
        "\n",
        "\n",
        "# System B is rotated by 90 grades around the Z-axis\n",
        "cos = round(np.cos(np.radians(90)),3)\n",
        "sin = round(np.sin(np.radians(90)),3)\n",
        "rotation_matrix = np.array([[cos,-sin,0,0],[sin,cos,0,0],[0,0,1,0],[0,0,0,1]])\n",
        "r2 = rotation_matrix @ r1\n",
        "print(\"Rotation matrix: \\n\",rotation_matrix)\n",
        "print(\"Result step 2: \",r2)\n",
        "\n",
        "# From World coordinates to System B\n",
        "# System B -> (x,y,z) -> World Coordinates to System B x - 2, y - 2, z - 2\n",
        "second_translation_matrix = np.array([[1,0,0,-2],[0,1,0,-2],[0,0,1,-2],[0,0,0,1]])\n",
        "r3 = second_translation_matrix @ r2\n",
        "print(\"Second translation matrix: \\n\",second_translation_matrix)\n",
        "print(\"Result step 3: \",r3)\n",
        "\n",
        "# Comprobation\n",
        "transformation_matrix = second_translation_matrix @ rotation_matrix @ translation_matrix\n",
        "print(\"---Comprobations---\")\n",
        "print(\"Transformation matrix: \\n\", transformation_matrix)\n",
        "result = transformation_matrix @ r\n",
        "print(\"Result obtained based on this matrix:\", result)\n",
        "print(\"Are both results the same? \", np.array_equal(result,r3))\n"
      ]
    },
    {
      "cell_type": "markdown",
      "metadata": {
        "id": "2WnjXgW2nPe_"
      },
      "source": [
        "***Sixth question:***\n",
        "\n",
        "**Projection in camera coordinates (3D to 2D):**  Let a point in 3D\n",
        "camera coordiantes be **P = (1,2,5)**. You are given the following camera\n",
        "intrinsic matrix **K**:\n",
        "\n",
        "$$ K = \\begin{bmatrix} 1000 & 0 & 500 \\\\ 0 & 1000 & 500 \\\\ 0 & 0 & 1 \\end{bmatrix}$$\n",
        "\n",
        "• Project the point **P** onto the 2D imagen plane using the intrinsic\n",
        "matrix **K**.\n",
        "\n",
        "• Compute the 2D pixel coordinates of the projected point.\n",
        "\n",
        "• Explain the meaning for the elements of **K**."
      ]
    },
    {
      "cell_type": "code",
      "execution_count": 7,
      "metadata": {
        "colab": {
          "base_uri": "https://localhost:8080/"
        },
        "id": "QApF05EJnvme",
        "outputId": "47ecb1eb-14ee-4258-870b-071ff7cf86f9"
      },
      "outputs": [
        {
          "name": "stdout",
          "output_type": "stream",
          "text": [
            "---Explication---\n",
            "The elements of K are: focal lengths, principal point offset and axis skew\n",
            "Focal length: Distance between the pinhole and the image plane. In a true pinhole camera, both have the same value (1000)\n",
            "Principal point offset: It's the point where the optical axis intersects the image plane.(500 and 500)\n",
            "Axis skew: Causes shear distortion in the projected image, zero in model cameras (0)\n",
            "---Comprobations---\n",
            "Coordenates in the plane: [3500 4500    5]\n",
            "2D coordinates in pixel: 700.0 900.0\n"
          ]
        }
      ],
      "source": [
        "# Initializations\n",
        "K = np.array([[1000,0,500],[0,1000,500],[0,0,1]])\n",
        "P = np.array([1,2,5])\n",
        "\n",
        "# Project the point P onto the 2D imagen plane using the intrinsic matrix K.\n",
        "image_coordinate = K @ P\n",
        "\n",
        "# Compute the 2D pixel coordinates of the projected point.\n",
        "u = image_coordinate[0]/image_coordinate[2]\n",
        "v = image_coordinate[1]/image_coordinate[2]\n",
        "\n",
        "# Third point\n",
        "print(\"---Explication---\")\n",
        "print(\"The elements of K are: focal lengths, principal point offset and axis skew\")\n",
        "print(\"Focal length: Distance between the pinhole and the image plane. In a true pinhole camera, both have the same value (1000)\")\n",
        "print(\"Principal point offset: It's the point where the optical axis intersects the image plane.(500 and 500)\")\n",
        "print(\"Axis skew: Causes shear distortion in the projected image, zero in model cameras (0)\")\n",
        "\n",
        "# Comprobations\n",
        "print(\"---Comprobations---\")\n",
        "print(\"Coordenates in the plane:\",  image_coordinate)\n",
        "print(\"2D coordinates in pixel:\", u,v)"
      ]
    },
    {
      "cell_type": "markdown",
      "metadata": {
        "id": "D_yA9jHjohjk"
      },
      "source": [
        "***Seventh question:***\n",
        "\n",
        "**General camera model (3D World point to 2D Image points):** Given the following camera parameters:\n",
        "$$ K = \\begin{bmatrix} 1200 & 0 & 640 \\\\ 0 & 1200 & 360 \\\\ 0 & 0 & 1 \\end{bmatrix}$$\n",
        "\n",
        "• Intrisic matrix **K**.\n",
        "\n",
        "• Camera rotation matrix **R** = identity matrix.\n",
        "\n",
        "• Camera translation **t = (0,0,-10)**.\n",
        "\n",
        "Transform a 3D world point **X = (2,3,4)** from world coordinates to 2D\n",
        "image coordinates. You will need to:\n",
        "\n",
        "• Compute the extrinsic matrix from the rotation and translation.\n",
        "\n",
        "• Project the point onto the image plane.\n",
        "\n",
        "• Verify the 2D coordinates in pixels."
      ]
    },
    {
      "cell_type": "code",
      "execution_count": 8,
      "metadata": {
        "colab": {
          "base_uri": "https://localhost:8080/"
        },
        "id": "37w9pQh6p-ot",
        "outputId": "b73106b6-148a-47da-d7af-1da8478b498c"
      },
      "outputs": [
        {
          "name": "stdout",
          "output_type": "stream",
          "text": [
            "2D Coordinates in pixels:  240.0 -240.0\n"
          ]
        }
      ],
      "source": [
        "# Initializations\n",
        "K = np.array([[1200,0,640],[0,1200,360],[0,0,1]])\n",
        "R = np.array([[1,0,0],[0,1,0],[0,0,1]])\n",
        "t = np.array([0,0,-10])\n",
        "\n",
        "x = np.array([2,3,4,1])\n",
        "\n",
        "# Build the intrisic matrix\n",
        "intrinsic_matrix = np.column_stack((R, t))\n",
        "\n",
        "# Transform the point into the camera's coordinate system\n",
        "camera_coordinate = intrinsic_matrix @ x\n",
        "\n",
        "# Project the point onto the image plane\n",
        "image_coordinate = K @ camera_coordinate\n",
        "\n",
        "# Convert to 2D\n",
        "u = image_coordinate[0]/image_coordinate[2]\n",
        "v = image_coordinate[1]/image_coordinate[2]\n",
        "\n",
        "# Final result\n",
        "print(\"2D Coordinates in pixels: \",u,v)"
      ]
    },
    {
      "cell_type": "markdown",
      "metadata": {
        "id": "nx3dwzoOp_KC"
      },
      "source": [
        "***Eighth question:***\n",
        "\n",
        "**Image transformation using cv2.warpAffine (2D):** Load an image\n",
        "using **OpenCV.** You will apply a combination of transformations (translation, rotation, and scaling) to the image.\n",
        "\n",
        "• First, compute the affine transformation matrix manually using translation (50,30), rotation by 30 grades and scaling by a factor of 1.5.\n",
        "\n",
        "• Use **OpenCV’s cv2.warpAffine** function to apply the transformation\n",
        "to the image.\n",
        "\n",
        "• **Display** both the original and transformed images."
      ]
    },
    {
      "cell_type": "code",
      "execution_count": 9,
      "metadata": {
        "id": "tFLmvB-MqPZp"
      },
      "outputs": [
        {
          "name": "stdout",
          "output_type": "stream",
          "text": [
            "Transformation matrix \n",
            " [[ 1.299 -0.75  50.   ]\n",
            " [ 0.75   1.299 30.   ]\n",
            " [ 0.     0.     1.   ]]\n"
          ]
        }
      ],
      "source": [
        "# Initializations\n",
        "image = cv.imread(\"cat.jpg\")\n",
        "\n",
        "# Comprobations\n",
        "if image is None:\n",
        "    print(\"Error: Image has not being loaded\")\n",
        "# Transformations...\n",
        "else:\n",
        "    # Translation, scaling and rotation matrix\n",
        "    translation_matrix = np.array([[1, 0, 50], [0, 1, 30], [0, 0, 1]], dtype=np.float32)\n",
        "    scaling_matrix = np.array([[1.5, 0, 0], [0, 1.5, 0], [0, 0, 1]], dtype=np.float32)\n",
        "    cos = round(np.cos(np.radians(30)), 3)\n",
        "    sin = round(np.sin(np.radians(30)), 3)\n",
        "    rotation_matrix = np.array([[cos, -sin, 0], [sin, cos, 0], [0, 0, 1]], dtype=np.float32)\n",
        "\n",
        "    # Combine transformations\n",
        "    transformation_matrix = translation_matrix @ scaling_matrix @ rotation_matrix\n",
        "    print(\"Transformation matrix \\n\",transformation_matrix)\n",
        "\n",
        "    # Extract the 2x3 part of the transformation matrix\n",
        "    transformation_matrix_2x3 = transformation_matrix[:2, :3]\n",
        "\n",
        "    # Applying the transformation to the image\n",
        "    transformed_image = cv.warpAffine(image, transformation_matrix_2x3, (image.shape[1], image.shape[0]))\n",
        "    \n",
        "    # Display\n",
        "    cv.imshow('Original image', image)\n",
        "    cv.imshow('Transformed image', transformed_image)\n",
        "    cv.waitKey(20000) # Wait for 20 seconds\n",
        "    cv.destroyAllWindows()"
      ]
    },
    {
      "cell_type": "markdown",
      "metadata": {
        "id": "acXWITMNqPxn"
      },
      "source": [
        "***Ninth question:***\n",
        "\n",
        "***Order of transformations:*** Let **s = (1,1)** be a point in 2D. Apply the\n",
        "following transformations in the order specified:\n",
        "\n",
        "• Rotate by 90◦.\n",
        "\n",
        "• Scale by a factor of 2.\n",
        "\n",
        "• Translate by (-1,1).\n",
        "\n",
        "Now reverse the order of the transformations and apply them again. Observe and explain how the final position of s changes with different transformation orders."
      ]
    },
    {
      "cell_type": "code",
      "execution_count": 10,
      "metadata": {
        "colab": {
          "base_uri": "https://localhost:8080/"
        },
        "id": "vgVrLv7vqnR3",
        "outputId": "f8fd4f81-00c4-4b69-8cee-341dbe64ea8f"
      },
      "outputs": [
        {
          "name": "stdout",
          "output_type": "stream",
          "text": [
            "First result: \n",
            " [-4.  0.  1.]\n",
            "Second result: \n",
            " [-3.  3.  1.]\n",
            "---Explication---\n",
            "Both results are not equals because matrix multiplication is not commutative, the order of the operations matters.\n",
            "---Demostration---\n",
            "First transformation matrix: rotation_matrix @ scale_matrix @ translation_matrix \n",
            " [[ 0. -2. -2.]\n",
            " [ 2.  0. -2.]\n",
            " [ 0.  0.  1.]]\n",
            "Second transformation matrix: translation_matrix @ scale_matrix @ rotation_matrix \n",
            " [[ 0. -2. -1.]\n",
            " [ 2.  0.  1.]\n",
            " [ 0.  0.  1.]]\n"
          ]
        }
      ],
      "source": [
        "# Initializations\n",
        "s = np.array([1,1,1])\n",
        "\n",
        "# Rotation\n",
        "cos = round(np.cos(np.radians(90)),3)\n",
        "sin = round(np.sin(np.radians(90)),3)\n",
        "rotation_matrix = np.array([[cos,-sin,0],[sin,cos,0],[0,0,1]])\n",
        "\n",
        "# Scale\n",
        "scale_matrix = np.array([[2,0,0],[0,2,0],[0,0,1]])\n",
        "\n",
        "# Translation\n",
        "translation_matrix =  np.array([[1,0,-1],[0,1,1],[0,0,1]])\n",
        "\n",
        "# First result:\n",
        "print(\"First result: \\n\", rotation_matrix @ scale_matrix @ translation_matrix @ s)\n",
        "\n",
        "# Second result:\n",
        "print(\"Second result: \\n\",translation_matrix @ scale_matrix @ rotation_matrix @ s)\n",
        "\n",
        "# Explication:\n",
        "print(\"---Explication---\")\n",
        "print(\"Both results are not equals because matrix multiplication is not commutative, the order of the operations matters.\")\n",
        "print(\"---Demostration---\")\n",
        "print(\"First transformation matrix: rotation_matrix @ scale_matrix @ translation_matrix \\n\", rotation_matrix @ scale_matrix @ translation_matrix)\n",
        "print(\"Second transformation matrix: translation_matrix @ scale_matrix @ rotation_matrix \\n\", translation_matrix @ scale_matrix @ rotation_matrix)"
      ]
    }
  ],
  "metadata": {
    "colab": {
      "provenance": []
    },
    "kernelspec": {
      "display_name": "Python 3",
      "name": "python3"
    },
    "language_info": {
      "codemirror_mode": {
        "name": "ipython",
        "version": 3
      },
      "file_extension": ".py",
      "mimetype": "text/x-python",
      "name": "python",
      "nbconvert_exporter": "python",
      "pygments_lexer": "ipython3",
      "version": "3.12.5"
    }
  },
  "nbformat": 4,
  "nbformat_minor": 0
}
