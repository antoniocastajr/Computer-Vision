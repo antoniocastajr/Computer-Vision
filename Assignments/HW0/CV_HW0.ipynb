{
  "nbformat": 4,
  "nbformat_minor": 0,
  "metadata": {
    "colab": {
      "provenance": []
    },
    "kernelspec": {
      "name": "python3",
      "display_name": "Python 3"
    },
    "language_info": {
      "name": "python"
    }
  },
  "cells": [
    {
      "cell_type": "markdown",
      "source": [
        "# CS512 --- Computer Vision --- First Assignment\n",
        "# Antonio Castañares Rodríguez, A20599898\n",
        "# 09/01/2024, Fall 2024\n",
        "\n",
        "\n",
        "\n",
        "\n"
      ],
      "metadata": {
        "id": "4P0PHjbpGDUQ"
      }
    },
    {
      "cell_type": "code",
      "source": [
        "# Imports\n",
        "import numpy as np"
      ],
      "metadata": {
        "id": "C_ROrduQGjxo"
      },
      "execution_count": 1,
      "outputs": []
    },
    {
      "cell_type": "markdown",
      "source": [
        "# Part A: Vectors Operations"
      ],
      "metadata": {
        "id": "MfvQq3flGzNm"
      }
    },
    {
      "cell_type": "code",
      "execution_count": 2,
      "metadata": {
        "colab": {
          "base_uri": "https://localhost:8080/"
        },
        "id": "LlR_WhHLF3Hm",
        "outputId": "5d21b415-7cf3-47a1-8a63-61cd6be656d0"
      },
      "outputs": [
        {
          "output_type": "stream",
          "name": "stdout",
          "text": [
            "Exercise 1's solution:  [ 6  3 22]\n",
            "Exercise 2's solution:  4.58257569495584\n",
            "Exercise 3's solution:  102.60438264837919\n",
            "Exercise 4's solution:  [ 0.43643578 -0.21821789  0.87287156]\n",
            "Exercise 5's solution:  50.490287713806076\n",
            "Exercise 6's solution:  17 and 17\n",
            "Exercise 7's solution:  17.0\n",
            "Exercise 8's solution:  3.709704134011871\n",
            "Exercise 9's solution:  [ 1.    1.   -0.25]\n",
            "Comprobation: If they are perpendiculars, the angle should be 90:  90.0\n",
            "Exercise 10's solution:  [-17 -10   6] and [17 10 -6]\n",
            "Exercise 11's solution:  90.0\n",
            "Exercise 12's solution:  False\n",
            "Exercise 13's solution:  17 and 17\n"
          ]
        }
      ],
      "source": [
        "# Initialization of vectors\n",
        "p = np.array([2,-1,4])\n",
        "q = np.array([0,3,5])\n",
        "r = np.array([1,2,2])\n",
        "\n",
        "# Exercise 1: 3p + 2q\n",
        "print(\"Exercise 1's solution: \", 3*p+2*q)\n",
        "\n",
        "# Exercise 2: ˆp = a unit vector in the direction of p\n",
        "norm_p = np.linalg.norm(p)\n",
        "print(\"Exercise 2's solution: \", norm_p)\n",
        "\n",
        "# Exercise 3: ∥p∥ and the angle of p relative to the positive y − axis\n",
        "theta_p = np.arccos(p[1]/norm_p)\n",
        "print(\"Exercise 3's solution: \", np.degrees(theta_p))\n",
        "\n",
        "# Exercise 4: The direction cosines of p\n",
        "print(\"Exercise 4's solution: \", p/norm_p)\n",
        "\n",
        "# Exercise 5: The angle between p and q\n",
        "norm_q = np.linalg.norm(q)\n",
        "dot_product_p_q = np.dot(p,q)\n",
        "angle_p_q = np.degrees(np.arccos(dot_product_p_q/(norm_p*norm_q)))\n",
        "print(\"Exercise 5's solution: \", angle_p_q)\n",
        "\n",
        "# Exercise 6: p · q and q · p\n",
        "print(\"Exercise 6's solution: \", dot_product_p_q, \"and\", np.dot(q,p))\n",
        "\n",
        "# Exercise 7: p · q using the angle between p and q\n",
        "print(\"Exercise 7's solution: \", norm_p * norm_q * np.cos(np.radians(angle_p_q)))\n",
        "\n",
        "# Exercise 8: The scalar projection of q onto ˆp\n",
        "print(\"Exercise 8's solution: \", dot_product_p_q/norm_p)\n",
        "\n",
        "# Exercise 9: A vector that is perpendicular to p\n",
        "x1 = 1\n",
        "x2 = 1\n",
        "x3 = -(2 * x1 - 1 *x2)/4    # 2 * x1 + (-1) * x2 + 4 * x3 = 0 -> Perpendicular condition\n",
        "print(\"Exercise 9's solution: \", np.array([x1,x2,x3]))\n",
        "\n",
        "# Comprobation\n",
        "norm_x = np.linalg.norm(np.array([x1,x2,x3]))\n",
        "dot_product_p_x = np.dot(p,np.array([x1,x2,x3]))\n",
        "angle_p_x = np.degrees(np.arccos(dot_product_p_x/(norm_p*norm_x)))\n",
        "print(\"Comprobation: If they are perpendiculars, the angle should be 90: \", angle_p_x)\n",
        "\n",
        "# Exercise 10: p x q and q x p\n",
        "pxq = np.cross(p,q)\n",
        "qxp = np.cross(q,p)\n",
        "print(\"Exercise 10's solution: \", pxq, \"and\", qxp)\n",
        "\n",
        "# Exercise 11: A vector that is perpendicular to both p and q\n",
        "norm_pxq = np.linalg.norm(pxq)\n",
        "dot_product_pxq_q = np.dot(pxq,q)\n",
        "angle_pxq_q = np.degrees(np.arccos(dot_product_pxq_q/(norm_pxq*norm_q)))\n",
        "print(\"Exercise 11's solution: \", angle_pxq_q)\n",
        "\n",
        "# Exercise 12: The linear dependency between p, q and r\n",
        "aux = np.column_stack((p,q,r))\n",
        "is_dependent = np.isclose(np.linalg.det(aux),0)\n",
        "print(\"Exercise 12's solution: \", is_dependent)\n",
        "# Exercise 13: p^Tq and pq^T\n",
        "p_T = np.transpose(p)\n",
        "q_T = np.transpose(q)\n",
        "print(\"Exercise 13's solution: \", np.dot(p_T,q), \"and\", np.dot(p,q_T))"
      ]
    },
    {
      "cell_type": "markdown",
      "source": [
        "# Part B: Matrix operations"
      ],
      "metadata": {
        "id": "VugTMun1SMQF"
      }
    },
    {
      "cell_type": "code",
      "source": [
        "# Inicialization of matrix\n",
        "X = np.array([[2,1,0],[-1,3,4],[4,2,-2]])\n",
        "Y = np.array([[4,-1,2],[3,0,-3],[1,2,1]])\n",
        "Z = np.array([[2,0,-1],[1,4,5],[3,1,2]])\n",
        "\n",
        "# Inicialization of vectors\n",
        "s = np.array([-1,4,0])\n",
        "\n",
        "# X,Y,Z,s Uncomment to print"
      ],
      "metadata": {
        "id": "VPbyARARSTcC"
      },
      "execution_count": 3,
      "outputs": []
    },
    {
      "cell_type": "code",
      "source": [
        "# Exercise 1: X + 2Y\n",
        "print(\"Exercise 1's solution: \", X+2*Y)\n",
        "\n",
        "# Exercise 2: XY and YX\n",
        "print(\"Exercise 2's solution: \", X*Y, \"and \", Y*X)\n",
        "\n",
        "# Exercise 3: (XY)^T and Y^TX^T\n",
        "product_transpose = np.transpose(np.dot(X,Y))\n",
        "transpose_product = np.dot(np.transpose(Y), np.transpose(X))\n",
        "print(\"Exercise 3's solution: \", product_transpose, \"and \", transpose_product)\n",
        "\n",
        "# Exercise 4: |X| and |Z|\n",
        "print(\"Exercise 4's solution: \", np.linalg.det(X), \"and \", np.linalg.det(Z))\n",
        "\n",
        "# Exercise 5: The matrix (either X,Y or Z) in which the row vectors form an orthogonal set\n",
        "print(\"Exercise 5's solutions: \")\n",
        "OneTwo = False;\n",
        "OneThree = False;\n",
        "TwoThree = False;\n",
        "for i in range(X.shape[0]):\n",
        "    for j in range(X.shape[0]):\n",
        "        if i != j and (not OneTwo or not OneThree or not TwoThree):\n",
        "          if i == 0 and j == 1:\n",
        "            OneTwo = True;\n",
        "          elif i == 0 and j == 2:\n",
        "            OneThree = True;\n",
        "          elif i == 1 and j == 2:\n",
        "            TwoThree = True;\n",
        "          else:\n",
        "            continue;\n",
        "          dot_product = np.dot(X[i],X[j])\n",
        "          print(f\"Row {i+1} and row {j+1} = {dot_product}\")\n",
        "\n",
        "OneTwo = False;\n",
        "OneThree = False;\n",
        "TwoThree = False\n",
        "for i in range(Y.shape[0]):\n",
        "    for j in range(Y.shape[0]):\n",
        "        if i != j and (not OneTwo or not OneThree or not TwoThree):\n",
        "          if i == 0 and j == 1:\n",
        "            OneTwo = True;\n",
        "          elif i == 0 and j == 2:\n",
        "            OneThree = True;\n",
        "          elif i == 1 and j == 2:\n",
        "            TwoThree = True;\n",
        "          else:\n",
        "            continue;\n",
        "          dot_product = np.dot(Y[i],Y[j])\n",
        "          print(f\"Row {i+1} and row {j+1} = {dot_product}\")\n",
        "\n",
        "OneTwo = False;\n",
        "OneThree = False;\n",
        "TwoThree = False\n",
        "for i in range(Z.shape[0]):\n",
        "    for j in range(Z.shape[0]):\n",
        "        if i != j and (not OneTwo or not OneThree or not TwoThree):\n",
        "          if i == 0 and j == 1:\n",
        "            OneTwo = True;\n",
        "          elif i == 0 and j == 2:\n",
        "            OneThree = True;\n",
        "          elif i == 1 and j == 2:\n",
        "            TwoThree = True;\n",
        "          else:\n",
        "            continue;\n",
        "          dot_product = np.dot(Z[i],Z[j])\n",
        "          print(f\"Row {i+1} and row {j+1} = {dot_product}\")\n",
        "# Exercise 6: X^{−1} and Y^{−1}\n",
        "print(\"Exercise 6's solution: \", np.linalg.inv(X), \"and \", np.linalg.inv(Y))\n",
        "\n",
        "# Exercise 7: Z^{−1}\n",
        "print(\"Exercise 7's solution: \", np.linalg.inv(Z))\n",
        "\n",
        "# Exercise 8: The product Xs\n",
        "print(\"Exercise 8's solution: \", np.dot(X,s))\n",
        "\n",
        "# Exercise 9: The scalar projection of the rows of X onto the vector s (with s normalized)\n",
        "norm_s = np.linalg.norm(s)\n",
        "print(\"Exercise 9's solution: \")\n",
        "for i in range(X.shape[0]):\n",
        "    print(np.dot(X[i],s/norm_s))      # Scalar projection = (v · s)||s||\n",
        "\n",
        "# Exercise 10: The vector projection of the rows of X onto the vector s (with s normalized)\n",
        "ss = norm_s**2\n",
        "print(\"Exercise 10's solution: \")\n",
        "for i in range(X.shape[0]):\n",
        "    print(((np.dot(X[i],s))/ss)*s)    # Vector projection = ((v * s)/(s * s))s\n",
        "\n",
        "# Exercise 11: The linear combination of the columns of X using the elements of s\n",
        "print(\"Exercise 11's solution: \", np.dot(X,s))\n",
        "\n",
        "# Exercise 12: The solution t for the equation Y t=s\n",
        "\n",
        "# AX=B, being:\n",
        "# A our matrix of coefficients (Y),\n",
        "# X our vectors of unknows (t)\n",
        "# B our vectors of constants (s)\n",
        "t = np.linalg.solve(Y,s)\n",
        "print(\"Exercise 12's solution: \", t)\n",
        "\n",
        "# Exercise 13: The solution t for the equation Z t=s and the reason for it\n",
        "t = np.linalg.solve(Z,s)\n",
        "print(\"Exercise 13's solution: \", t)"
      ],
      "metadata": {
        "colab": {
          "base_uri": "https://localhost:8080/"
        },
        "id": "mJzkR33STgxb",
        "outputId": "40abc4a8-d6b6-4e27-e335-b93ae5932b21"
      },
      "execution_count": 4,
      "outputs": [
        {
          "output_type": "stream",
          "name": "stdout",
          "text": [
            "Exercise 1's solution:  [[10 -1  4]\n",
            " [ 5  3 -2]\n",
            " [ 6  6  0]]\n",
            "Exercise 2's solution:  [[  8  -1   0]\n",
            " [ -3   0 -12]\n",
            " [  4   4  -2]] and  [[  8  -1   0]\n",
            " [ -3   0 -12]\n",
            " [  4   4  -2]]\n",
            "Exercise 3's solution:  [[11  9 20]\n",
            " [-2  9 -8]\n",
            " [ 1 -7  0]] and  [[11  9 20]\n",
            " [-2  9 -8]\n",
            " [ 1 -7  0]]\n",
            "Exercise 4's solution:  -14.000000000000004 and  17.0\n",
            "Exercise 5's solutions: \n",
            "Row 1 and row 2 = 1\n",
            "Row 1 and row 3 = 10\n",
            "Row 2 and row 3 = -6\n",
            "Row 1 and row 2 = 6\n",
            "Row 1 and row 3 = 4\n",
            "Row 2 and row 3 = 0\n",
            "Row 1 and row 2 = -3\n",
            "Row 1 and row 3 = 4\n",
            "Row 2 and row 3 = 17\n",
            "Exercise 6's solution:  [[ 1.         -0.14285714 -0.28571429]\n",
            " [-1.          0.28571429  0.57142857]\n",
            " [ 1.          0.         -0.5       ]] and  [[ 0.14285714  0.11904762  0.07142857]\n",
            " [-0.14285714  0.04761905  0.42857143]\n",
            " [ 0.14285714 -0.21428571  0.07142857]]\n",
            "Exercise 7's solution:  [[ 0.17647059 -0.05882353  0.23529412]\n",
            " [ 0.76470588  0.41176471 -0.64705882]\n",
            " [-0.64705882 -0.11764706  0.47058824]]\n",
            "Exercise 8's solution:  [ 2 13  4]\n",
            "Exercise 9's solution: \n",
            "0.48507125007266594\n",
            "3.1529631254723287\n",
            "0.9701425001453319\n",
            "Exercise 10's solution: \n",
            "[-0.11764706  0.47058824  0.        ]\n",
            "[-0.76470588  3.05882353  0.        ]\n",
            "[-0.23529412  0.94117647  0.        ]\n",
            "Exercise 11's solution:  [ 2 13  4]\n",
            "Exercise 12's solution:  [ 0.33333333  0.33333333 -1.        ]\n",
            "Exercise 13's solution:  [-0.41176471  0.88235294  0.17647059]\n"
          ]
        }
      ]
    },
    {
      "cell_type": "markdown",
      "source": [
        "# Part C: Eigenvalues and eigenvectors"
      ],
      "metadata": {
        "id": "Y6ZiVgezf5aV"
      }
    },
    {
      "cell_type": "code",
      "source": [
        "# Inicialization of matrix\n",
        "M = np.array([[3,2],[-1,4]])\n",
        "N = np.array([[5,-3],[-3,6]])\n",
        "P = np.array([[2,4],[4,8]])\n",
        "\n",
        "# M,N,P Uncomment to print"
      ],
      "metadata": {
        "id": "wTbcMolDgJgc"
      },
      "execution_count": 5,
      "outputs": []
    },
    {
      "cell_type": "code",
      "source": [
        "# Exercise 1: The eigenvalues and corresponding eigenvectors of M\n",
        "eigenvectors_M = np.linalg.eig(M)\n",
        "print(\"Exercise 1's solutions: \", eigenvectors_M[0], \"and \", eigenvectors_M[1])\n",
        "\n",
        "# Exercise 2: The dot product between the eigenvectors of M\n",
        "print(\"Exercise 2's solution: \", np.dot(eigenvectors_M[1][0],eigenvectors_M[1][1]))\n",
        "# Exercise 3: The dot product between the eigenvectors of N\n",
        "eigenvectors_N = np.linalg.eig(N)\n",
        "print(\"Exercise 3's solutions: \", np.dot(eigenvectors_N[1][0],eigenvectors_N[1][1]))\n",
        "# Exercise 4: The property of the eigenvectors of N and the reason for it (\n",
        "print(\"Exercise 4's solution: The property of the eigenvectors is that all of them are orthogonal (perpendicular) to each \\\n",
        "other. For this reason, the dot product of any pair of eigenvectors is zero\")\n",
        "# Exercise 5: The value of a trivial solution t to the equation P t=0\n",
        "Z = np.zeros((2,1))\n",
        "X = np.linalg.lstsq(P,Z, rcond=None)[0]\n",
        "print(\"Exercise 5's solution: \", X)\n",
        "# Exercise 6: The value of two non-trivial solutions t to the equation P t=0\n",
        "\n",
        "# Exercise 7: The only solution t to the equation M t=0 and the reason for having a single solution\n",
        "Z = np.zeros((2,1))\n",
        "X = np.linalg.lstsq(M,Z, rcond=None)[0]\n",
        "print(\"Exercise 7's solution: \", X)\n",
        "print(\"Explication: The reason for having a single solution is that the matrix M is non-singular. M is invertible, \\\n",
        "and therefore, there are no non-trivial solutiions to this system\")"
      ],
      "metadata": {
        "colab": {
          "base_uri": "https://localhost:8080/"
        },
        "id": "euwgJmkZgn0N",
        "outputId": "65b55209-603b-4a6a-d11b-fb9b712bb4bb"
      },
      "execution_count": 6,
      "outputs": [
        {
          "output_type": "stream",
          "name": "stdout",
          "text": [
            "Exercise 1's solutions:  [3.5+1.32287566j 3.5-1.32287566j] and  [[0.81649658+0.j         0.81649658-0.j        ]\n",
            " [0.20412415+0.54006172j 0.20412415-0.54006172j]]\n",
            "Exercise 2's solution:  (0.33333333333333337+0j)\n",
            "Exercise 3's solutions:  0.0\n",
            "Exercise 4's solution: The property of the eigenvectors is that all of them are orthogonal (perpendicular) to each other. For this reason, the dot product of any pair of eigenvectors is zero\n",
            "Exercise 5's solution:  [[0.]\n",
            " [0.]]\n",
            "Exercise 7's solution:  [[0.]\n",
            " [0.]]\n",
            "Explication: The reason for having a single solution is that the matrix M is non-singular. M is invertible, and therefore, there are no non-trivial solutiions to this system\n"
          ]
        }
      ]
    },
    {
      "cell_type": "markdown",
      "source": [
        "# Part D: Neural Network Basic"
      ],
      "metadata": {
        "id": "j128HtdghycO"
      }
    },
    {
      "cell_type": "code",
      "source": [
        "# Activation functions\n",
        "\n",
        "def sigmoid(x):\n",
        "    return 1 / (1 + np.exp(-x))\n",
        "\n",
        "def relu(x):\n",
        "    return np.maximum(0, x)"
      ],
      "metadata": {
        "id": "hWQk09_jnXDe"
      },
      "execution_count": 7,
      "outputs": []
    },
    {
      "cell_type": "code",
      "source": [
        "# Exercise 1: Given a neuron with input values x1 = 0.5, x2 = −0.8 and x3 = 0.3, weights w1 = 0.4, w2 = −0.6 and\n",
        "# w3 = 0.9 and a bias b = 0.2, compute the output of the neuron before applying any activation function.\n",
        "W = np.array([0.4,-0.6,0.9])\n",
        "X = np.array([0.5,-0.8,0.3])\n",
        "b = 0.2\n",
        "\n",
        "output_neuron = np.dot(W,X)+b\n",
        "print(\"Exercise 1's solution: \", output_neuron)\n",
        "# Exercise 2: Using the output computed in the previous question, apply the sigmoid activation function to find the\n",
        "# activation value.\n",
        "print(\"Exercise 2's solution: \", sigmoid(output_neuron))\n",
        "# Exercise 3: Given the same input values and weights as in question 1, compute the output of the neuron after\n",
        "# applying a ReLU activation function.\n",
        "print(\"Exercise 3's solution: \", relu(output_neuron))\n",
        "# Exercise 4: Given a neural network layer with weights Wh, bias bh, and input x, as follows:\n",
        "W = np.array([[0.4,0.3],[0.2,0.7]])\n",
        "x = np.array([1,2])\n",
        "b = np.array([0.1,-0.1])\n",
        "\n",
        "# compute the output of the layer using sigmoid activation.\n",
        "output_neuron = np.dot(W,x)+b\n",
        "print(\"Exercise 4's solution: \", sigmoid(output_neuron))\n",
        "# Exercise 5: Feed the output of the layer from the previous question into an output layer with weights Wh, bias bh,\n",
        "# as follows:\n",
        "W = np.array([0.5,-0.3])\n",
        "b = 0.1\n",
        "\n",
        "print(\"Exercise 5's solution: \", np.dot(W,output_neuron)+b)"
      ],
      "metadata": {
        "colab": {
          "base_uri": "https://localhost:8080/"
        },
        "id": "B2mgmT7Vh39u",
        "outputId": "c9e54feb-a08e-4c55-fc8e-ea55d6560b10"
      },
      "execution_count": 8,
      "outputs": [
        {
          "output_type": "stream",
          "name": "stdout",
          "text": [
            "Exercise 1's solution:  1.15\n",
            "Exercise 2's solution:  0.759510916949111\n",
            "Exercise 3's solution:  1.15\n",
            "Exercise 4's solution:  [0.75026011 0.81757448]\n",
            "Exercise 5's solution:  0.20000000000000015\n"
          ]
        }
      ]
    }
  ]
}