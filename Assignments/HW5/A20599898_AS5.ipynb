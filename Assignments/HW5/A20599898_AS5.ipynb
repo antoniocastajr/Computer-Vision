{
  "nbformat": 4,
  "nbformat_minor": 0,
  "metadata": {
    "colab": {
      "provenance": [],
      "machine_shape": "hm",
      "gpuType": "T4"
    },
    "kernelspec": {
      "name": "python3",
      "display_name": "Python 3"
    },
    "language_info": {
      "name": "python"
    },
    "accelerator": "GPU",
    "widgets": {
      "application/vnd.jupyter.widget-state+json": {
        "5245dcf96d6845a3a6752d6c2ca43f93": {
          "model_module": "@jupyter-widgets/controls",
          "model_name": "HBoxModel",
          "model_module_version": "1.5.0",
          "state": {
            "_dom_classes": [],
            "_model_module": "@jupyter-widgets/controls",
            "_model_module_version": "1.5.0",
            "_model_name": "HBoxModel",
            "_view_count": null,
            "_view_module": "@jupyter-widgets/controls",
            "_view_module_version": "1.5.0",
            "_view_name": "HBoxView",
            "box_style": "",
            "children": [
              "IPY_MODEL_659088f871684b8da7daac7807589f9e",
              "IPY_MODEL_36a12838dd0548f4ba7699e59b5d969f",
              "IPY_MODEL_743b67f49a1b4aea8d4609344bfdba6e"
            ],
            "layout": "IPY_MODEL_289d487d21494c1c8ca1d8e8b55134f7"
          }
        },
        "659088f871684b8da7daac7807589f9e": {
          "model_module": "@jupyter-widgets/controls",
          "model_name": "HTMLModel",
          "model_module_version": "1.5.0",
          "state": {
            "_dom_classes": [],
            "_model_module": "@jupyter-widgets/controls",
            "_model_module_version": "1.5.0",
            "_model_name": "HTMLModel",
            "_view_count": null,
            "_view_module": "@jupyter-widgets/controls",
            "_view_module_version": "1.5.0",
            "_view_name": "HTMLView",
            "description": "",
            "description_tooltip": null,
            "layout": "IPY_MODEL_c5a174ce6e264a81aad58aa8c4a42fb2",
            "placeholder": "​",
            "style": "IPY_MODEL_566e1eddc4b74cf28aede1c8ab1d6fd5",
            "value": "config.json: 100%"
          }
        },
        "36a12838dd0548f4ba7699e59b5d969f": {
          "model_module": "@jupyter-widgets/controls",
          "model_name": "FloatProgressModel",
          "model_module_version": "1.5.0",
          "state": {
            "_dom_classes": [],
            "_model_module": "@jupyter-widgets/controls",
            "_model_module_version": "1.5.0",
            "_model_name": "FloatProgressModel",
            "_view_count": null,
            "_view_module": "@jupyter-widgets/controls",
            "_view_module_version": "1.5.0",
            "_view_name": "ProgressView",
            "bar_style": "success",
            "description": "",
            "description_tooltip": null,
            "layout": "IPY_MODEL_9636c428793d403e950dcb2b67316b5d",
            "max": 502,
            "min": 0,
            "orientation": "horizontal",
            "style": "IPY_MODEL_c2ff159a41a648a2a01d37f67ee77f8b",
            "value": 502
          }
        },
        "743b67f49a1b4aea8d4609344bfdba6e": {
          "model_module": "@jupyter-widgets/controls",
          "model_name": "HTMLModel",
          "model_module_version": "1.5.0",
          "state": {
            "_dom_classes": [],
            "_model_module": "@jupyter-widgets/controls",
            "_model_module_version": "1.5.0",
            "_model_name": "HTMLModel",
            "_view_count": null,
            "_view_module": "@jupyter-widgets/controls",
            "_view_module_version": "1.5.0",
            "_view_name": "HTMLView",
            "description": "",
            "description_tooltip": null,
            "layout": "IPY_MODEL_f47d884e1d6843b499ccdb53bcdf612b",
            "placeholder": "​",
            "style": "IPY_MODEL_fef194f931374296863a4621b927bef2",
            "value": " 502/502 [00:00&lt;00:00, 41.9kB/s]"
          }
        },
        "289d487d21494c1c8ca1d8e8b55134f7": {
          "model_module": "@jupyter-widgets/base",
          "model_name": "LayoutModel",
          "model_module_version": "1.2.0",
          "state": {
            "_model_module": "@jupyter-widgets/base",
            "_model_module_version": "1.2.0",
            "_model_name": "LayoutModel",
            "_view_count": null,
            "_view_module": "@jupyter-widgets/base",
            "_view_module_version": "1.2.0",
            "_view_name": "LayoutView",
            "align_content": null,
            "align_items": null,
            "align_self": null,
            "border": null,
            "bottom": null,
            "display": null,
            "flex": null,
            "flex_flow": null,
            "grid_area": null,
            "grid_auto_columns": null,
            "grid_auto_flow": null,
            "grid_auto_rows": null,
            "grid_column": null,
            "grid_gap": null,
            "grid_row": null,
            "grid_template_areas": null,
            "grid_template_columns": null,
            "grid_template_rows": null,
            "height": null,
            "justify_content": null,
            "justify_items": null,
            "left": null,
            "margin": null,
            "max_height": null,
            "max_width": null,
            "min_height": null,
            "min_width": null,
            "object_fit": null,
            "object_position": null,
            "order": null,
            "overflow": null,
            "overflow_x": null,
            "overflow_y": null,
            "padding": null,
            "right": null,
            "top": null,
            "visibility": null,
            "width": null
          }
        },
        "c5a174ce6e264a81aad58aa8c4a42fb2": {
          "model_module": "@jupyter-widgets/base",
          "model_name": "LayoutModel",
          "model_module_version": "1.2.0",
          "state": {
            "_model_module": "@jupyter-widgets/base",
            "_model_module_version": "1.2.0",
            "_model_name": "LayoutModel",
            "_view_count": null,
            "_view_module": "@jupyter-widgets/base",
            "_view_module_version": "1.2.0",
            "_view_name": "LayoutView",
            "align_content": null,
            "align_items": null,
            "align_self": null,
            "border": null,
            "bottom": null,
            "display": null,
            "flex": null,
            "flex_flow": null,
            "grid_area": null,
            "grid_auto_columns": null,
            "grid_auto_flow": null,
            "grid_auto_rows": null,
            "grid_column": null,
            "grid_gap": null,
            "grid_row": null,
            "grid_template_areas": null,
            "grid_template_columns": null,
            "grid_template_rows": null,
            "height": null,
            "justify_content": null,
            "justify_items": null,
            "left": null,
            "margin": null,
            "max_height": null,
            "max_width": null,
            "min_height": null,
            "min_width": null,
            "object_fit": null,
            "object_position": null,
            "order": null,
            "overflow": null,
            "overflow_x": null,
            "overflow_y": null,
            "padding": null,
            "right": null,
            "top": null,
            "visibility": null,
            "width": null
          }
        },
        "566e1eddc4b74cf28aede1c8ab1d6fd5": {
          "model_module": "@jupyter-widgets/controls",
          "model_name": "DescriptionStyleModel",
          "model_module_version": "1.5.0",
          "state": {
            "_model_module": "@jupyter-widgets/controls",
            "_model_module_version": "1.5.0",
            "_model_name": "DescriptionStyleModel",
            "_view_count": null,
            "_view_module": "@jupyter-widgets/base",
            "_view_module_version": "1.2.0",
            "_view_name": "StyleView",
            "description_width": ""
          }
        },
        "9636c428793d403e950dcb2b67316b5d": {
          "model_module": "@jupyter-widgets/base",
          "model_name": "LayoutModel",
          "model_module_version": "1.2.0",
          "state": {
            "_model_module": "@jupyter-widgets/base",
            "_model_module_version": "1.2.0",
            "_model_name": "LayoutModel",
            "_view_count": null,
            "_view_module": "@jupyter-widgets/base",
            "_view_module_version": "1.2.0",
            "_view_name": "LayoutView",
            "align_content": null,
            "align_items": null,
            "align_self": null,
            "border": null,
            "bottom": null,
            "display": null,
            "flex": null,
            "flex_flow": null,
            "grid_area": null,
            "grid_auto_columns": null,
            "grid_auto_flow": null,
            "grid_auto_rows": null,
            "grid_column": null,
            "grid_gap": null,
            "grid_row": null,
            "grid_template_areas": null,
            "grid_template_columns": null,
            "grid_template_rows": null,
            "height": null,
            "justify_content": null,
            "justify_items": null,
            "left": null,
            "margin": null,
            "max_height": null,
            "max_width": null,
            "min_height": null,
            "min_width": null,
            "object_fit": null,
            "object_position": null,
            "order": null,
            "overflow": null,
            "overflow_x": null,
            "overflow_y": null,
            "padding": null,
            "right": null,
            "top": null,
            "visibility": null,
            "width": null
          }
        },
        "c2ff159a41a648a2a01d37f67ee77f8b": {
          "model_module": "@jupyter-widgets/controls",
          "model_name": "ProgressStyleModel",
          "model_module_version": "1.5.0",
          "state": {
            "_model_module": "@jupyter-widgets/controls",
            "_model_module_version": "1.5.0",
            "_model_name": "ProgressStyleModel",
            "_view_count": null,
            "_view_module": "@jupyter-widgets/base",
            "_view_module_version": "1.2.0",
            "_view_name": "StyleView",
            "bar_color": null,
            "description_width": ""
          }
        },
        "f47d884e1d6843b499ccdb53bcdf612b": {
          "model_module": "@jupyter-widgets/base",
          "model_name": "LayoutModel",
          "model_module_version": "1.2.0",
          "state": {
            "_model_module": "@jupyter-widgets/base",
            "_model_module_version": "1.2.0",
            "_model_name": "LayoutModel",
            "_view_count": null,
            "_view_module": "@jupyter-widgets/base",
            "_view_module_version": "1.2.0",
            "_view_name": "LayoutView",
            "align_content": null,
            "align_items": null,
            "align_self": null,
            "border": null,
            "bottom": null,
            "display": null,
            "flex": null,
            "flex_flow": null,
            "grid_area": null,
            "grid_auto_columns": null,
            "grid_auto_flow": null,
            "grid_auto_rows": null,
            "grid_column": null,
            "grid_gap": null,
            "grid_row": null,
            "grid_template_areas": null,
            "grid_template_columns": null,
            "grid_template_rows": null,
            "height": null,
            "justify_content": null,
            "justify_items": null,
            "left": null,
            "margin": null,
            "max_height": null,
            "max_width": null,
            "min_height": null,
            "min_width": null,
            "object_fit": null,
            "object_position": null,
            "order": null,
            "overflow": null,
            "overflow_x": null,
            "overflow_y": null,
            "padding": null,
            "right": null,
            "top": null,
            "visibility": null,
            "width": null
          }
        },
        "fef194f931374296863a4621b927bef2": {
          "model_module": "@jupyter-widgets/controls",
          "model_name": "DescriptionStyleModel",
          "model_module_version": "1.5.0",
          "state": {
            "_model_module": "@jupyter-widgets/controls",
            "_model_module_version": "1.5.0",
            "_model_name": "DescriptionStyleModel",
            "_view_count": null,
            "_view_module": "@jupyter-widgets/base",
            "_view_module_version": "1.2.0",
            "_view_name": "StyleView",
            "description_width": ""
          }
        },
        "bbeda5db886c4d0fae394fc649f5ccbf": {
          "model_module": "@jupyter-widgets/controls",
          "model_name": "HBoxModel",
          "model_module_version": "1.5.0",
          "state": {
            "_dom_classes": [],
            "_model_module": "@jupyter-widgets/controls",
            "_model_module_version": "1.5.0",
            "_model_name": "HBoxModel",
            "_view_count": null,
            "_view_module": "@jupyter-widgets/controls",
            "_view_module_version": "1.5.0",
            "_view_name": "HBoxView",
            "box_style": "",
            "children": [
              "IPY_MODEL_c4cf41f214c9400ab040619c06041e05",
              "IPY_MODEL_11384ca02a584789aff1a81d5f6634ac",
              "IPY_MODEL_3655f1f6cdb945aa9a0860ca41eb3008"
            ],
            "layout": "IPY_MODEL_8aba10a6727a4296b00f98840b4763f6"
          }
        },
        "c4cf41f214c9400ab040619c06041e05": {
          "model_module": "@jupyter-widgets/controls",
          "model_name": "HTMLModel",
          "model_module_version": "1.5.0",
          "state": {
            "_dom_classes": [],
            "_model_module": "@jupyter-widgets/controls",
            "_model_module_version": "1.5.0",
            "_model_name": "HTMLModel",
            "_view_count": null,
            "_view_module": "@jupyter-widgets/controls",
            "_view_module_version": "1.5.0",
            "_view_name": "HTMLView",
            "description": "",
            "description_tooltip": null,
            "layout": "IPY_MODEL_b7e333fe4ba94540a6233ce2c5f0c60c",
            "placeholder": "​",
            "style": "IPY_MODEL_11dd549994cb4055a800ad80449b947c",
            "value": "model.safetensors: 100%"
          }
        },
        "11384ca02a584789aff1a81d5f6634ac": {
          "model_module": "@jupyter-widgets/controls",
          "model_name": "FloatProgressModel",
          "model_module_version": "1.5.0",
          "state": {
            "_dom_classes": [],
            "_model_module": "@jupyter-widgets/controls",
            "_model_module_version": "1.5.0",
            "_model_name": "FloatProgressModel",
            "_view_count": null,
            "_view_module": "@jupyter-widgets/controls",
            "_view_module_version": "1.5.0",
            "_view_name": "ProgressView",
            "bar_style": "success",
            "description": "",
            "description_tooltip": null,
            "layout": "IPY_MODEL_5a041db263bc4df4ba0928e4a80f4a78",
            "max": 345579424,
            "min": 0,
            "orientation": "horizontal",
            "style": "IPY_MODEL_779840b66a994e32be011e4f033f5a2b",
            "value": 345579424
          }
        },
        "3655f1f6cdb945aa9a0860ca41eb3008": {
          "model_module": "@jupyter-widgets/controls",
          "model_name": "HTMLModel",
          "model_module_version": "1.5.0",
          "state": {
            "_dom_classes": [],
            "_model_module": "@jupyter-widgets/controls",
            "_model_module_version": "1.5.0",
            "_model_name": "HTMLModel",
            "_view_count": null,
            "_view_module": "@jupyter-widgets/controls",
            "_view_module_version": "1.5.0",
            "_view_name": "HTMLView",
            "description": "",
            "description_tooltip": null,
            "layout": "IPY_MODEL_4cf32657fdc642ee90e9cef7686f77d9",
            "placeholder": "​",
            "style": "IPY_MODEL_c04032dc8e5d4992b597837b1f69fbe7",
            "value": " 346M/346M [00:01&lt;00:00, 247MB/s]"
          }
        },
        "8aba10a6727a4296b00f98840b4763f6": {
          "model_module": "@jupyter-widgets/base",
          "model_name": "LayoutModel",
          "model_module_version": "1.2.0",
          "state": {
            "_model_module": "@jupyter-widgets/base",
            "_model_module_version": "1.2.0",
            "_model_name": "LayoutModel",
            "_view_count": null,
            "_view_module": "@jupyter-widgets/base",
            "_view_module_version": "1.2.0",
            "_view_name": "LayoutView",
            "align_content": null,
            "align_items": null,
            "align_self": null,
            "border": null,
            "bottom": null,
            "display": null,
            "flex": null,
            "flex_flow": null,
            "grid_area": null,
            "grid_auto_columns": null,
            "grid_auto_flow": null,
            "grid_auto_rows": null,
            "grid_column": null,
            "grid_gap": null,
            "grid_row": null,
            "grid_template_areas": null,
            "grid_template_columns": null,
            "grid_template_rows": null,
            "height": null,
            "justify_content": null,
            "justify_items": null,
            "left": null,
            "margin": null,
            "max_height": null,
            "max_width": null,
            "min_height": null,
            "min_width": null,
            "object_fit": null,
            "object_position": null,
            "order": null,
            "overflow": null,
            "overflow_x": null,
            "overflow_y": null,
            "padding": null,
            "right": null,
            "top": null,
            "visibility": null,
            "width": null
          }
        },
        "b7e333fe4ba94540a6233ce2c5f0c60c": {
          "model_module": "@jupyter-widgets/base",
          "model_name": "LayoutModel",
          "model_module_version": "1.2.0",
          "state": {
            "_model_module": "@jupyter-widgets/base",
            "_model_module_version": "1.2.0",
            "_model_name": "LayoutModel",
            "_view_count": null,
            "_view_module": "@jupyter-widgets/base",
            "_view_module_version": "1.2.0",
            "_view_name": "LayoutView",
            "align_content": null,
            "align_items": null,
            "align_self": null,
            "border": null,
            "bottom": null,
            "display": null,
            "flex": null,
            "flex_flow": null,
            "grid_area": null,
            "grid_auto_columns": null,
            "grid_auto_flow": null,
            "grid_auto_rows": null,
            "grid_column": null,
            "grid_gap": null,
            "grid_row": null,
            "grid_template_areas": null,
            "grid_template_columns": null,
            "grid_template_rows": null,
            "height": null,
            "justify_content": null,
            "justify_items": null,
            "left": null,
            "margin": null,
            "max_height": null,
            "max_width": null,
            "min_height": null,
            "min_width": null,
            "object_fit": null,
            "object_position": null,
            "order": null,
            "overflow": null,
            "overflow_x": null,
            "overflow_y": null,
            "padding": null,
            "right": null,
            "top": null,
            "visibility": null,
            "width": null
          }
        },
        "11dd549994cb4055a800ad80449b947c": {
          "model_module": "@jupyter-widgets/controls",
          "model_name": "DescriptionStyleModel",
          "model_module_version": "1.5.0",
          "state": {
            "_model_module": "@jupyter-widgets/controls",
            "_model_module_version": "1.5.0",
            "_model_name": "DescriptionStyleModel",
            "_view_count": null,
            "_view_module": "@jupyter-widgets/base",
            "_view_module_version": "1.2.0",
            "_view_name": "StyleView",
            "description_width": ""
          }
        },
        "5a041db263bc4df4ba0928e4a80f4a78": {
          "model_module": "@jupyter-widgets/base",
          "model_name": "LayoutModel",
          "model_module_version": "1.2.0",
          "state": {
            "_model_module": "@jupyter-widgets/base",
            "_model_module_version": "1.2.0",
            "_model_name": "LayoutModel",
            "_view_count": null,
            "_view_module": "@jupyter-widgets/base",
            "_view_module_version": "1.2.0",
            "_view_name": "LayoutView",
            "align_content": null,
            "align_items": null,
            "align_self": null,
            "border": null,
            "bottom": null,
            "display": null,
            "flex": null,
            "flex_flow": null,
            "grid_area": null,
            "grid_auto_columns": null,
            "grid_auto_flow": null,
            "grid_auto_rows": null,
            "grid_column": null,
            "grid_gap": null,
            "grid_row": null,
            "grid_template_areas": null,
            "grid_template_columns": null,
            "grid_template_rows": null,
            "height": null,
            "justify_content": null,
            "justify_items": null,
            "left": null,
            "margin": null,
            "max_height": null,
            "max_width": null,
            "min_height": null,
            "min_width": null,
            "object_fit": null,
            "object_position": null,
            "order": null,
            "overflow": null,
            "overflow_x": null,
            "overflow_y": null,
            "padding": null,
            "right": null,
            "top": null,
            "visibility": null,
            "width": null
          }
        },
        "779840b66a994e32be011e4f033f5a2b": {
          "model_module": "@jupyter-widgets/controls",
          "model_name": "ProgressStyleModel",
          "model_module_version": "1.5.0",
          "state": {
            "_model_module": "@jupyter-widgets/controls",
            "_model_module_version": "1.5.0",
            "_model_name": "ProgressStyleModel",
            "_view_count": null,
            "_view_module": "@jupyter-widgets/base",
            "_view_module_version": "1.2.0",
            "_view_name": "StyleView",
            "bar_color": null,
            "description_width": ""
          }
        },
        "4cf32657fdc642ee90e9cef7686f77d9": {
          "model_module": "@jupyter-widgets/base",
          "model_name": "LayoutModel",
          "model_module_version": "1.2.0",
          "state": {
            "_model_module": "@jupyter-widgets/base",
            "_model_module_version": "1.2.0",
            "_model_name": "LayoutModel",
            "_view_count": null,
            "_view_module": "@jupyter-widgets/base",
            "_view_module_version": "1.2.0",
            "_view_name": "LayoutView",
            "align_content": null,
            "align_items": null,
            "align_self": null,
            "border": null,
            "bottom": null,
            "display": null,
            "flex": null,
            "flex_flow": null,
            "grid_area": null,
            "grid_auto_columns": null,
            "grid_auto_flow": null,
            "grid_auto_rows": null,
            "grid_column": null,
            "grid_gap": null,
            "grid_row": null,
            "grid_template_areas": null,
            "grid_template_columns": null,
            "grid_template_rows": null,
            "height": null,
            "justify_content": null,
            "justify_items": null,
            "left": null,
            "margin": null,
            "max_height": null,
            "max_width": null,
            "min_height": null,
            "min_width": null,
            "object_fit": null,
            "object_position": null,
            "order": null,
            "overflow": null,
            "overflow_x": null,
            "overflow_y": null,
            "padding": null,
            "right": null,
            "top": null,
            "visibility": null,
            "width": null
          }
        },
        "c04032dc8e5d4992b597837b1f69fbe7": {
          "model_module": "@jupyter-widgets/controls",
          "model_name": "DescriptionStyleModel",
          "model_module_version": "1.5.0",
          "state": {
            "_model_module": "@jupyter-widgets/controls",
            "_model_module_version": "1.5.0",
            "_model_name": "DescriptionStyleModel",
            "_view_count": null,
            "_view_module": "@jupyter-widgets/base",
            "_view_module_version": "1.2.0",
            "_view_name": "StyleView",
            "description_width": ""
          }
        }
      }
    }
  },
  "cells": [
    {
      "cell_type": "code",
      "source": [
        "import tensorflow as tf\n",
        "import numpy as np\n",
        "import matplotlib.pyplot as plt\n",
        "\n",
        "from transformers import ViTFeatureExtractor, TFViTModel, ViTConfig\n",
        "from tensorflow.keras import layers, Model, optimizers\n",
        "from tensorflow.keras.datasets import cifar10\n",
        "from tensorflow.keras.applications import VGG16\n",
        "from tensorflow.keras.applications.vgg16 import preprocess_input\n",
        "from tensorflow.keras.layers import Flatten, Dense\n",
        "from tensorflow.keras.callbacks import EarlyStopping"
      ],
      "metadata": {
        "id": "Pwjg26j3kuy8"
      },
      "execution_count": 1,
      "outputs": []
    },
    {
      "cell_type": "markdown",
      "source": [
        "### Dataset preparation\n",
        "\n",
        "1. Load the dataset: CIFAR-10 contains 10 classes (e.g airplane, car, bird, cat, deer). The Cats and Dogs contains two classes (cats and dogs).\n",
        "\n",
        "- Load the dataset using Keras. *DONE*\n",
        "- Resize all images to 224x224 pixels, and normalize pixel values to [0,1]. *DONE*\n",
        "-Split the data into training and testing sets. Further slipt the testing set into a testing and validation subsets. Set up data loading for each. *DONE*"
      ],
      "metadata": {
        "id": "V8CQKoGo6jcd"
      }
    },
    {
      "cell_type": "code",
      "source": [
        "# Load and preprocess CIFAR-10 dataset\n",
        "(img_train, label_train), (img_test, label_test) = cifar10.load_data()\n",
        "\n",
        "# Limit to the first 5000 images and labels in the training set\n",
        "img_train = img_train[:5000]\n",
        "label_train = label_train[:5000]\n",
        "\n",
        "# Similarly, limit the test set\n",
        "img_test = img_test[:1000]\n",
        "label_test = label_test[:1000]\n",
        "\n",
        "# Resize CIFAR-10 images from 32x32 to 224x224 and normalize pixel values\n",
        "IMG_SIZE = 224\n",
        "img_train = tf.image.resize(img_train, (IMG_SIZE, IMG_SIZE)) / 255.0\n",
        "img_test = tf.image.resize(img_test, (IMG_SIZE, IMG_SIZE)) / 255.0\n",
        "\n",
        "BATCH_SIZE = 10 # 32\n",
        "train_ds = tf.data.Dataset.from_tensor_slices((img_train, label_train)).batch(BATCH_SIZE).shuffle(100)\n",
        "\n",
        "# Define dataset size and split ratio\n",
        "dataset_size = len(list(train_ds))  # Get the total number of samples (5000)\n",
        "validation_split = 0.2  # 20% for validation\n",
        "validation_size = int(dataset_size * validation_split) # (1000)\n",
        "\n",
        "# Split the dataset\n",
        "val_ds = train_ds.take(validation_size)  # Validation set  # (1000)\n",
        "train_ds = train_ds.skip(validation_size)  # Training set  # (4000)\n",
        "test_ds = tf.data.Dataset.from_tensor_slices((img_test, label_test)).batch(BATCH_SIZE) # Test set (1000)"
      ],
      "metadata": {
        "id": "a40O6JiVkysE",
        "colab": {
          "base_uri": "https://localhost:8080/"
        },
        "outputId": "889581c9-9fa5-4a8a-cd7b-94c5f69fdef9"
      },
      "execution_count": 2,
      "outputs": [
        {
          "output_type": "stream",
          "name": "stdout",
          "text": [
            "Downloading data from https://www.cs.toronto.edu/~kriz/cifar-10-python.tar.gz\n",
            "\u001b[1m170498071/170498071\u001b[0m \u001b[32m━━━━━━━━━━━━━━━━━━━━\u001b[0m\u001b[37m\u001b[0m \u001b[1m39s\u001b[0m 0us/step\n"
          ]
        }
      ]
    },
    {
      "cell_type": "markdown",
      "source": [
        "### Standard Vision Transformer (ViT) Model.\n",
        "\n",
        "1. Implement the ViT Model.\n",
        "\n",
        "  -Load a pretrained Vision Transforme (ViT) model from Hugging Face using the TFVi Model class. *DONE*\n",
        "\n",
        "  -Add a classification head after the ViT blocks, with 10 output units (one for each class in CIFAR-10), or 1 output unit for the Cats and Dogs problem). *DONE*\n",
        "  \n",
        "  -Compile the model with an appropriate optimizer, loss function, and metrics. *DONE*"
      ],
      "metadata": {
        "id": "rVZpUKrV7Xzc"
      }
    },
    {
      "cell_type": "code",
      "source": [
        "# Define the Standard Vision Transformer (ViT) Model\n",
        "\n",
        "# Custom wrapper layer for the ViT model\n",
        "class ViTModelLayer(layers.Layer):\n",
        "    def __init__(self, vit_model, **kwargs):\n",
        "        super(ViTModelLayer, self).__init__(**kwargs)\n",
        "        self.vit_model = vit_model\n",
        "\n",
        "    def call(self, inputs):\n",
        "        # Adjust dimensions to match the expected input shape for ViT: (batch_size, 3, height, width)\n",
        "        inputs = tf.transpose(inputs, [0, 3, 1, 2])\n",
        "        # Pass the adjusted input through the ViT model\n",
        "        vit_output = self.vit_model(pixel_values=inputs).last_hidden_state[:, 0]\n",
        "        return vit_output\n",
        "\n",
        "# Define the model creation function\n",
        "def create_vit_model(num_classes):\n",
        "    # Load the pretrained Vision Transformer model from Hugging Face\n",
        "    vit_model = TFViTModel.from_pretrained(\"google/vit-base-patch16-224-in21k\")\n",
        "\n",
        "    # Define input layer\n",
        "    input_layer = tf.keras.Input(shape=(IMG_SIZE, IMG_SIZE, 3))\n",
        "\n",
        "    # Wrap ViT model in the custom layer\n",
        "    vit_output = ViTModelLayer(vit_model)(input_layer)\n",
        "\n",
        "    # Add a classification head\n",
        "    output_layer = layers.Dense(num_classes, activation='softmax')(vit_output)\n",
        "\n",
        "    # Create the final model\n",
        "    model = Model(inputs=input_layer, outputs=output_layer)\n",
        "\n",
        "    model.summary()\n",
        "\n",
        "    return model\n"
      ],
      "metadata": {
        "id": "RORLSsdRk1rS"
      },
      "execution_count": 3,
      "outputs": []
    },
    {
      "cell_type": "code",
      "source": [
        "# Instantiate the ViT model and compile it\n",
        "num_classes = 10  # CIFAR-10 has 10 classes\n",
        "vit_model = create_vit_model(num_classes)\n",
        "vit_model.compile(optimizer=optimizers.Adam(learning_rate=1e-4),\n",
        "                  loss='sparse_categorical_crossentropy',\n",
        "                  metrics=['accuracy'])\n"
      ],
      "metadata": {
        "id": "OguFmCF5oioe",
        "colab": {
          "base_uri": "https://localhost:8080/",
          "height": 483,
          "referenced_widgets": [
            "5245dcf96d6845a3a6752d6c2ca43f93",
            "659088f871684b8da7daac7807589f9e",
            "36a12838dd0548f4ba7699e59b5d969f",
            "743b67f49a1b4aea8d4609344bfdba6e",
            "289d487d21494c1c8ca1d8e8b55134f7",
            "c5a174ce6e264a81aad58aa8c4a42fb2",
            "566e1eddc4b74cf28aede1c8ab1d6fd5",
            "9636c428793d403e950dcb2b67316b5d",
            "c2ff159a41a648a2a01d37f67ee77f8b",
            "f47d884e1d6843b499ccdb53bcdf612b",
            "fef194f931374296863a4621b927bef2",
            "bbeda5db886c4d0fae394fc649f5ccbf",
            "c4cf41f214c9400ab040619c06041e05",
            "11384ca02a584789aff1a81d5f6634ac",
            "3655f1f6cdb945aa9a0860ca41eb3008",
            "8aba10a6727a4296b00f98840b4763f6",
            "b7e333fe4ba94540a6233ce2c5f0c60c",
            "11dd549994cb4055a800ad80449b947c",
            "5a041db263bc4df4ba0928e4a80f4a78",
            "779840b66a994e32be011e4f033f5a2b",
            "4cf32657fdc642ee90e9cef7686f77d9",
            "c04032dc8e5d4992b597837b1f69fbe7"
          ]
        },
        "outputId": "b3191953-9b0e-4566-cc79-64ea1e04be54"
      },
      "execution_count": 4,
      "outputs": [
        {
          "output_type": "stream",
          "name": "stderr",
          "text": [
            "/usr/local/lib/python3.10/dist-packages/huggingface_hub/utils/_auth.py:94: UserWarning: \n",
            "The secret `HF_TOKEN` does not exist in your Colab secrets.\n",
            "To authenticate with the Hugging Face Hub, create a token in your settings tab (https://huggingface.co/settings/tokens), set it as secret in your Google Colab and restart your session.\n",
            "You will be able to reuse this secret in all of your notebooks.\n",
            "Please note that authentication is recommended but still optional to access public models or datasets.\n",
            "  warnings.warn(\n"
          ]
        },
        {
          "output_type": "display_data",
          "data": {
            "text/plain": [
              "config.json:   0%|          | 0.00/502 [00:00<?, ?B/s]"
            ],
            "application/vnd.jupyter.widget-view+json": {
              "version_major": 2,
              "version_minor": 0,
              "model_id": "5245dcf96d6845a3a6752d6c2ca43f93"
            }
          },
          "metadata": {}
        },
        {
          "output_type": "display_data",
          "data": {
            "text/plain": [
              "model.safetensors:   0%|          | 0.00/346M [00:00<?, ?B/s]"
            ],
            "application/vnd.jupyter.widget-view+json": {
              "version_major": 2,
              "version_minor": 0,
              "model_id": "bbeda5db886c4d0fae394fc649f5ccbf"
            }
          },
          "metadata": {}
        },
        {
          "output_type": "stream",
          "name": "stderr",
          "text": [
            "All PyTorch model weights were used when initializing TFViTModel.\n",
            "\n",
            "All the weights of TFViTModel were initialized from the PyTorch model.\n",
            "If your task is similar to the task the model of the checkpoint was trained on, you can already use TFViTModel for predictions without further training.\n"
          ]
        },
        {
          "output_type": "display_data",
          "data": {
            "text/plain": [
              "\u001b[1mModel: \"functional\"\u001b[0m\n"
            ],
            "text/html": [
              "<pre style=\"white-space:pre;overflow-x:auto;line-height:normal;font-family:Menlo,'DejaVu Sans Mono',consolas,'Courier New',monospace\"><span style=\"font-weight: bold\">Model: \"functional\"</span>\n",
              "</pre>\n"
            ]
          },
          "metadata": {}
        },
        {
          "output_type": "display_data",
          "data": {
            "text/plain": [
              "┏━━━━━━━━━━━━━━━━━━━━━━━━━━━━━━━━━━━━━━┳━━━━━━━━━━━━━━━━━━━━━━━━━━━━━┳━━━━━━━━━━━━━━━━━┓\n",
              "┃\u001b[1m \u001b[0m\u001b[1mLayer (type)                        \u001b[0m\u001b[1m \u001b[0m┃\u001b[1m \u001b[0m\u001b[1mOutput Shape               \u001b[0m\u001b[1m \u001b[0m┃\u001b[1m \u001b[0m\u001b[1m        Param #\u001b[0m\u001b[1m \u001b[0m┃\n",
              "┡━━━━━━━━━━━━━━━━━━━━━━━━━━━━━━━━━━━━━━╇━━━━━━━━━━━━━━━━━━━━━━━━━━━━━╇━━━━━━━━━━━━━━━━━┩\n",
              "│ input_layer (\u001b[38;5;33mInputLayer\u001b[0m)             │ (\u001b[38;5;45mNone\u001b[0m, \u001b[38;5;34m224\u001b[0m, \u001b[38;5;34m224\u001b[0m, \u001b[38;5;34m3\u001b[0m)         │               \u001b[38;5;34m0\u001b[0m │\n",
              "├──────────────────────────────────────┼─────────────────────────────┼─────────────────┤\n",
              "│ vi_t_model_layer (\u001b[38;5;33mViTModelLayer\u001b[0m)     │ (\u001b[38;5;45mNone\u001b[0m, \u001b[38;5;34m768\u001b[0m)                 │               \u001b[38;5;34m0\u001b[0m │\n",
              "├──────────────────────────────────────┼─────────────────────────────┼─────────────────┤\n",
              "│ dense (\u001b[38;5;33mDense\u001b[0m)                        │ (\u001b[38;5;45mNone\u001b[0m, \u001b[38;5;34m10\u001b[0m)                  │           \u001b[38;5;34m7,690\u001b[0m │\n",
              "└──────────────────────────────────────┴─────────────────────────────┴─────────────────┘\n"
            ],
            "text/html": [
              "<pre style=\"white-space:pre;overflow-x:auto;line-height:normal;font-family:Menlo,'DejaVu Sans Mono',consolas,'Courier New',monospace\">┏━━━━━━━━━━━━━━━━━━━━━━━━━━━━━━━━━━━━━━┳━━━━━━━━━━━━━━━━━━━━━━━━━━━━━┳━━━━━━━━━━━━━━━━━┓\n",
              "┃<span style=\"font-weight: bold\"> Layer (type)                         </span>┃<span style=\"font-weight: bold\"> Output Shape                </span>┃<span style=\"font-weight: bold\">         Param # </span>┃\n",
              "┡━━━━━━━━━━━━━━━━━━━━━━━━━━━━━━━━━━━━━━╇━━━━━━━━━━━━━━━━━━━━━━━━━━━━━╇━━━━━━━━━━━━━━━━━┩\n",
              "│ input_layer (<span style=\"color: #0087ff; text-decoration-color: #0087ff\">InputLayer</span>)             │ (<span style=\"color: #00d7ff; text-decoration-color: #00d7ff\">None</span>, <span style=\"color: #00af00; text-decoration-color: #00af00\">224</span>, <span style=\"color: #00af00; text-decoration-color: #00af00\">224</span>, <span style=\"color: #00af00; text-decoration-color: #00af00\">3</span>)         │               <span style=\"color: #00af00; text-decoration-color: #00af00\">0</span> │\n",
              "├──────────────────────────────────────┼─────────────────────────────┼─────────────────┤\n",
              "│ vi_t_model_layer (<span style=\"color: #0087ff; text-decoration-color: #0087ff\">ViTModelLayer</span>)     │ (<span style=\"color: #00d7ff; text-decoration-color: #00d7ff\">None</span>, <span style=\"color: #00af00; text-decoration-color: #00af00\">768</span>)                 │               <span style=\"color: #00af00; text-decoration-color: #00af00\">0</span> │\n",
              "├──────────────────────────────────────┼─────────────────────────────┼─────────────────┤\n",
              "│ dense (<span style=\"color: #0087ff; text-decoration-color: #0087ff\">Dense</span>)                        │ (<span style=\"color: #00d7ff; text-decoration-color: #00d7ff\">None</span>, <span style=\"color: #00af00; text-decoration-color: #00af00\">10</span>)                  │           <span style=\"color: #00af00; text-decoration-color: #00af00\">7,690</span> │\n",
              "└──────────────────────────────────────┴─────────────────────────────┴─────────────────┘\n",
              "</pre>\n"
            ]
          },
          "metadata": {}
        },
        {
          "output_type": "display_data",
          "data": {
            "text/plain": [
              "\u001b[1m Total params: \u001b[0m\u001b[38;5;34m7,690\u001b[0m (30.04 KB)\n"
            ],
            "text/html": [
              "<pre style=\"white-space:pre;overflow-x:auto;line-height:normal;font-family:Menlo,'DejaVu Sans Mono',consolas,'Courier New',monospace\"><span style=\"font-weight: bold\"> Total params: </span><span style=\"color: #00af00; text-decoration-color: #00af00\">7,690</span> (30.04 KB)\n",
              "</pre>\n"
            ]
          },
          "metadata": {}
        },
        {
          "output_type": "display_data",
          "data": {
            "text/plain": [
              "\u001b[1m Trainable params: \u001b[0m\u001b[38;5;34m7,690\u001b[0m (30.04 KB)\n"
            ],
            "text/html": [
              "<pre style=\"white-space:pre;overflow-x:auto;line-height:normal;font-family:Menlo,'DejaVu Sans Mono',consolas,'Courier New',monospace\"><span style=\"font-weight: bold\"> Trainable params: </span><span style=\"color: #00af00; text-decoration-color: #00af00\">7,690</span> (30.04 KB)\n",
              "</pre>\n"
            ]
          },
          "metadata": {}
        },
        {
          "output_type": "display_data",
          "data": {
            "text/plain": [
              "\u001b[1m Non-trainable params: \u001b[0m\u001b[38;5;34m0\u001b[0m (0.00 B)\n"
            ],
            "text/html": [
              "<pre style=\"white-space:pre;overflow-x:auto;line-height:normal;font-family:Menlo,'DejaVu Sans Mono',consolas,'Courier New',monospace\"><span style=\"font-weight: bold\"> Non-trainable params: </span><span style=\"color: #00af00; text-decoration-color: #00af00\">0</span> (0.00 B)\n",
              "</pre>\n"
            ]
          },
          "metadata": {}
        }
      ]
    },
    {
      "cell_type": "markdown",
      "source": [
        "2. Training\n",
        "\n",
        "  -Train the model on the training set. *DONE*\n",
        "\n",
        "  -Save checkpoints periodically, and log training/validation loss and accuracy. *DONE*"
      ],
      "metadata": {
        "id": "NLRKODx78JHn"
      }
    },
    {
      "cell_type": "code",
      "source": [
        "# Early stop for save time if if applicable\n",
        "early_stopping = EarlyStopping(\n",
        "    monitor='val_accuracy',\n",
        "    patience=1,\n",
        "    restore_best_weights=True,\n",
        "    verbose=1\n",
        ")"
      ],
      "metadata": {
        "id": "DMZDFtO_XI8l"
      },
      "execution_count": 5,
      "outputs": []
    },
    {
      "cell_type": "code",
      "source": [
        "# Train the Standard ViT Model\n",
        "EPOCHS = 5\n",
        "vit_history = vit_model.fit(train_ds,\n",
        "                            validation_data=val_ds,\n",
        "                            epochs=EPOCHS,\n",
        "                            #callbacks=[early_stopping]\n",
        "                            )"
      ],
      "metadata": {
        "id": "b8mt0WH9okKE",
        "colab": {
          "base_uri": "https://localhost:8080/"
        },
        "outputId": "88ee9924-dd5d-4b31-adf8-0a552708a673"
      },
      "execution_count": 6,
      "outputs": [
        {
          "output_type": "stream",
          "name": "stdout",
          "text": [
            "Epoch 1/5\n",
            "\u001b[1m400/400\u001b[0m \u001b[32m━━━━━━━━━━━━━━━━━━━━\u001b[0m\u001b[37m\u001b[0m \u001b[1m80s\u001b[0m 157ms/step - accuracy: 0.3019 - loss: 2.1528 - val_accuracy: 0.7700 - val_loss: 1.6709\n",
            "Epoch 2/5\n",
            "\u001b[1m400/400\u001b[0m \u001b[32m━━━━━━━━━━━━━━━━━━━━\u001b[0m\u001b[37m\u001b[0m \u001b[1m62s\u001b[0m 154ms/step - accuracy: 0.8062 - loss: 1.5400 - val_accuracy: 0.8560 - val_loss: 1.1928\n",
            "Epoch 3/5\n",
            "\u001b[1m400/400\u001b[0m \u001b[32m━━━━━━━━━━━━━━━━━━━━\u001b[0m\u001b[37m\u001b[0m \u001b[1m61s\u001b[0m 152ms/step - accuracy: 0.8647 - loss: 1.1316 - val_accuracy: 0.8700 - val_loss: 0.9331\n",
            "Epoch 4/5\n",
            "\u001b[1m400/400\u001b[0m \u001b[32m━━━━━━━━━━━━━━━━━━━━\u001b[0m\u001b[37m\u001b[0m \u001b[1m61s\u001b[0m 152ms/step - accuracy: 0.8767 - loss: 0.8677 - val_accuracy: 0.8770 - val_loss: 0.7527\n",
            "Epoch 5/5\n",
            "\u001b[1m400/400\u001b[0m \u001b[32m━━━━━━━━━━━━━━━━━━━━\u001b[0m\u001b[37m\u001b[0m \u001b[1m61s\u001b[0m 152ms/step - accuracy: 0.8817 - loss: 0.7224 - val_accuracy: 0.9050 - val_loss: 0.6062\n"
          ]
        }
      ]
    },
    {
      "cell_type": "markdown",
      "source": [
        "3. Evaluation\n",
        "\n",
        "  -Evaluate the model on the test set, reporting accuracy and other relevant metrics. *DONE*\n",
        "\n",
        "  -Plot the training and validation accuracy and loss over epochs. *DONE*\n",
        "  \n",
        "  *(I did the plots all together in the last section **Analysis and Comparison**)*"
      ],
      "metadata": {
        "id": "Z7Sp7oxP8fqb"
      }
    },
    {
      "cell_type": "code",
      "source": [
        "# Evaluate the Standard ViT Model\n",
        "test_loss, test_accuracy = vit_model.evaluate(test_ds)\n",
        "print(f\"Test Loss: {test_loss:.2f}\\nTest Accuracy: {test_accuracy:.2f}\")"
      ],
      "metadata": {
        "id": "d1yMPNT-omDv",
        "colab": {
          "base_uri": "https://localhost:8080/"
        },
        "outputId": "21b7ae7b-c4ed-444b-9e51-fff5728cc560"
      },
      "execution_count": 7,
      "outputs": [
        {
          "output_type": "stream",
          "name": "stdout",
          "text": [
            "\u001b[1m100/100\u001b[0m \u001b[32m━━━━━━━━━━━━━━━━━━━━\u001b[0m\u001b[37m\u001b[0m \u001b[1m13s\u001b[0m 122ms/step - accuracy: 0.8973 - loss: 0.6414\n",
            "Test Loss: 0.64\n",
            "Test Accuracy: 0.89\n"
          ]
        }
      ]
    },
    {
      "cell_type": "markdown",
      "source": [
        "REPORT: The standard ViT model gives good accuracy (90%) and the loss value seems logical when compared to the precision. These results confirm that the model is learning during training.\n",
        "\n",
        "*(If you want to see the plots, please go to the last section **Analysis and Comparison**)*"
      ],
      "metadata": {
        "id": "11Gpk2_F9C9q"
      }
    },
    {
      "cell_type": "markdown",
      "source": [
        "### Hybrid VGG16 + ViT Model\n",
        "\n"
      ],
      "metadata": {
        "id": "5FCFua8hjx2v"
      }
    },
    {
      "cell_type": "markdown",
      "source": [
        "1. Pretrained VGG16 for feature Extraction\n",
        "\n",
        "  -Use pretrained VGG16 layers up to block3_conv3 or up to block5_conv3 to extract initial images features. The advantage of block5_conv3 is that it produces a smaller output (14x14x512) for ViT. *DONE*\n",
        "\n",
        "  *(I use the predefined block3_conv3 because I got goods results with it)*\n",
        "\n",
        "  -Freeze these VGG16 layers to use them as a fixed feature extractor. *DONE*\n",
        "\n",
        "2. Implement the Hybrid Model\n",
        "\n",
        "  -After extracting features with VGG16, feed the output into the ViT blocks. *DONE*\n",
        "\n",
        "  -Ensure the output of VGG16 matches the ViT input shape requirements. *DONE*\n",
        "\n",
        "  -Add a classification head after the ViT blocks to produce predictions. *DONE*"
      ],
      "metadata": {
        "id": "kcj4t0Z999EB"
      }
    },
    {
      "cell_type": "code",
      "source": [
        "# Define the model creation function\n",
        "def create_vgg_vit_model(num_classes):\n",
        "    # ViTConfig() is the configuration class to store the configuration of a ViTModel\n",
        "    # It is used to instantiate an ViT model according to the specified arguments and model architecture.\n",
        "    # Link: https://huggingface.co/docs/transformers/main/en/model_doc/vit#transformers.ViTConfig\n",
        "    vit_config = ViTConfig()\n",
        "\n",
        "    # To make it work with hybrid model, you need to change the below three arguments:\n",
        "    #   image_size: The size (resolution) of each image\n",
        "    #   num_channels: The number of input channels\n",
        "    #   patch_size: The size (resolution) of each patch\n",
        "    # The image_size and num_channels should match the output of VGG16\n",
        "\n",
        "    vit_config.image_size = 224 # Input size of input for VGG and ViT\n",
        "    vit_config.num_channels = 3 # RGB\n",
        "\n",
        "    # Set the patch size to 1, as specified in the original paper (page 5),\n",
        "    # to handle the intermediate feature maps input\n",
        "    # Paper link: https://arxiv.org/pdf/2010.11929\n",
        "\n",
        "    vit_config.patch_size = 16 # I've changed the value of the variable becuase I got memory problems with 1\n",
        "\n",
        "    # When loading the pretrained model, the configuration Class should be passed via 'config' argument.\n",
        "    # Also, the 'ignore_mismatched_sizes' should be set to True.\n",
        "\n",
        "    vit_model = TFViTModel.from_pretrained(\n",
        "        'google/vit-base-patch16-224-in21k',\n",
        "        config=vit_config,\n",
        "        ignore_mismatched_sizes=True,\n",
        "    )\n",
        "\n",
        "    # Assemble your hybrid model: VGG16 + ViT\n",
        "    # ...\n",
        "\n",
        "    # Import the VGG16 pretrained model\n",
        "    vgg_model = tf.keras.applications.VGG16(include_top=False, weights = 'imagenet', input_shape=(IMG_SIZE, IMG_SIZE, 3))\n",
        "\n",
        "    # Freeze the VGG16 layers\n",
        "    for layer in vgg_model.layers:\n",
        "        layer.trainable = False\n",
        "\n",
        "    input_layer = tf.keras.layers.Input(shape=(IMG_SIZE, IMG_SIZE, 3))\n",
        "\n",
        "    # VGG16\n",
        "    vgg_output = tf.keras.layers.Flatten()(vgg_model(input_layer)) # Flatten(28,28,512) ->(None,25088)\n",
        "\n",
        "    # ViT\n",
        "    vit_output = ViTModelLayer(vit_model)(input_layer) # (None, 768)\n",
        "\n",
        "    # Concatenate VGG16 Features and ViT Features\n",
        "    vit_output = tf.keras.layers.Concatenate(axis=-1)([vgg_output, vit_output]) # (None,25088) + (None, 768) = (None, 25856)\n",
        "\n",
        "    # Add a classification head\n",
        "    output_layer = layers.Dense(num_classes, activation='softmax')(vit_output)\n",
        "\n",
        "    # Create the final model\n",
        "    model = Model(inputs=input_layer, outputs=output_layer)\n",
        "\n",
        "    model.summary()\n",
        "\n",
        "    return model\n"
      ],
      "metadata": {
        "id": "B9vSngGGj8zg"
      },
      "execution_count": 8,
      "outputs": []
    },
    {
      "cell_type": "markdown",
      "source": [
        "3. Training and Evaluation\n",
        "\n",
        "  -Train the hybrid model on the CIFAR-10 or Cats and Dogs training set. *DONE*\n",
        "\n",
        "  -Evaluate the hybrid model on the test set, tracking the same metrics as in Task 2. *DONE*\n",
        "\n",
        "  -Save checkpoints and visualize some predictions on test images *DONE*\n",
        "\n",
        "  "
      ],
      "metadata": {
        "id": "sKzsWz7E_H2O"
      }
    },
    {
      "cell_type": "code",
      "source": [
        "# Instantiate the hybrid model and compile it\n",
        "num_classes = 10  # CIFAR-10 has 10 classes\n",
        "hybrid_model = create_vgg_vit_model(num_classes)\n",
        "hybrid_model.compile(optimizer=optimizers.Adam(learning_rate=1e-4),\n",
        "                  loss='sparse_categorical_crossentropy',\n",
        "                  metrics=['accuracy'])\n"
      ],
      "metadata": {
        "colab": {
          "base_uri": "https://localhost:8080/",
          "height": 473
        },
        "id": "U2TNcceBl2JC",
        "outputId": "7284650d-38aa-412c-f9a5-052b94a3ee5d"
      },
      "execution_count": 9,
      "outputs": [
        {
          "output_type": "stream",
          "name": "stderr",
          "text": [
            "All PyTorch model weights were used when initializing TFViTModel.\n",
            "\n",
            "All the weights of TFViTModel were initialized from the PyTorch model.\n",
            "If your task is similar to the task the model of the checkpoint was trained on, you can already use TFViTModel for predictions without further training.\n"
          ]
        },
        {
          "output_type": "stream",
          "name": "stdout",
          "text": [
            "Downloading data from https://storage.googleapis.com/tensorflow/keras-applications/vgg16/vgg16_weights_tf_dim_ordering_tf_kernels_notop.h5\n",
            "\u001b[1m58889256/58889256\u001b[0m \u001b[32m━━━━━━━━━━━━━━━━━━━━\u001b[0m\u001b[37m\u001b[0m \u001b[1m3s\u001b[0m 0us/step\n"
          ]
        },
        {
          "output_type": "display_data",
          "data": {
            "text/plain": [
              "\u001b[1mModel: \"functional_1\"\u001b[0m\n"
            ],
            "text/html": [
              "<pre style=\"white-space:pre;overflow-x:auto;line-height:normal;font-family:Menlo,'DejaVu Sans Mono',consolas,'Courier New',monospace\"><span style=\"font-weight: bold\">Model: \"functional_1\"</span>\n",
              "</pre>\n"
            ]
          },
          "metadata": {}
        },
        {
          "output_type": "display_data",
          "data": {
            "text/plain": [
              "┏━━━━━━━━━━━━━━━━━━━━━━━━━━━┳━━━━━━━━━━━━━━━━━━━━━━━━┳━━━━━━━━━━━━━━━━┳━━━━━━━━━━━━━━━━━━━━━━━━┓\n",
              "┃\u001b[1m \u001b[0m\u001b[1mLayer (type)             \u001b[0m\u001b[1m \u001b[0m┃\u001b[1m \u001b[0m\u001b[1mOutput Shape          \u001b[0m\u001b[1m \u001b[0m┃\u001b[1m \u001b[0m\u001b[1m       Param #\u001b[0m\u001b[1m \u001b[0m┃\u001b[1m \u001b[0m\u001b[1mConnected to          \u001b[0m\u001b[1m \u001b[0m┃\n",
              "┡━━━━━━━━━━━━━━━━━━━━━━━━━━━╇━━━━━━━━━━━━━━━━━━━━━━━━╇━━━━━━━━━━━━━━━━╇━━━━━━━━━━━━━━━━━━━━━━━━┩\n",
              "│ input_layer_2             │ (\u001b[38;5;45mNone\u001b[0m, \u001b[38;5;34m224\u001b[0m, \u001b[38;5;34m224\u001b[0m, \u001b[38;5;34m3\u001b[0m)    │              \u001b[38;5;34m0\u001b[0m │ -                      │\n",
              "│ (\u001b[38;5;33mInputLayer\u001b[0m)              │                        │                │                        │\n",
              "├───────────────────────────┼────────────────────────┼────────────────┼────────────────────────┤\n",
              "│ vgg16 (\u001b[38;5;33mFunctional\u001b[0m)        │ (\u001b[38;5;45mNone\u001b[0m, \u001b[38;5;34m7\u001b[0m, \u001b[38;5;34m7\u001b[0m, \u001b[38;5;34m512\u001b[0m)      │     \u001b[38;5;34m14,714,688\u001b[0m │ input_layer_2[\u001b[38;5;34m0\u001b[0m][\u001b[38;5;34m0\u001b[0m]    │\n",
              "├───────────────────────────┼────────────────────────┼────────────────┼────────────────────────┤\n",
              "│ flatten (\u001b[38;5;33mFlatten\u001b[0m)         │ (\u001b[38;5;45mNone\u001b[0m, \u001b[38;5;34m25088\u001b[0m)          │              \u001b[38;5;34m0\u001b[0m │ vgg16[\u001b[38;5;34m0\u001b[0m][\u001b[38;5;34m0\u001b[0m]            │\n",
              "├───────────────────────────┼────────────────────────┼────────────────┼────────────────────────┤\n",
              "│ vi_t_model_layer_1        │ (\u001b[38;5;45mNone\u001b[0m, \u001b[38;5;34m768\u001b[0m)            │              \u001b[38;5;34m0\u001b[0m │ input_layer_2[\u001b[38;5;34m0\u001b[0m][\u001b[38;5;34m0\u001b[0m]    │\n",
              "│ (\u001b[38;5;33mViTModelLayer\u001b[0m)           │                        │                │                        │\n",
              "├───────────────────────────┼────────────────────────┼────────────────┼────────────────────────┤\n",
              "│ concatenate (\u001b[38;5;33mConcatenate\u001b[0m) │ (\u001b[38;5;45mNone\u001b[0m, \u001b[38;5;34m25856\u001b[0m)          │              \u001b[38;5;34m0\u001b[0m │ flatten[\u001b[38;5;34m0\u001b[0m][\u001b[38;5;34m0\u001b[0m],         │\n",
              "│                           │                        │                │ vi_t_model_layer_1[\u001b[38;5;34m0\u001b[0m]… │\n",
              "├───────────────────────────┼────────────────────────┼────────────────┼────────────────────────┤\n",
              "│ dense_1 (\u001b[38;5;33mDense\u001b[0m)           │ (\u001b[38;5;45mNone\u001b[0m, \u001b[38;5;34m10\u001b[0m)             │        \u001b[38;5;34m258,570\u001b[0m │ concatenate[\u001b[38;5;34m0\u001b[0m][\u001b[38;5;34m0\u001b[0m]      │\n",
              "└───────────────────────────┴────────────────────────┴────────────────┴────────────────────────┘\n"
            ],
            "text/html": [
              "<pre style=\"white-space:pre;overflow-x:auto;line-height:normal;font-family:Menlo,'DejaVu Sans Mono',consolas,'Courier New',monospace\">┏━━━━━━━━━━━━━━━━━━━━━━━━━━━┳━━━━━━━━━━━━━━━━━━━━━━━━┳━━━━━━━━━━━━━━━━┳━━━━━━━━━━━━━━━━━━━━━━━━┓\n",
              "┃<span style=\"font-weight: bold\"> Layer (type)              </span>┃<span style=\"font-weight: bold\"> Output Shape           </span>┃<span style=\"font-weight: bold\">        Param # </span>┃<span style=\"font-weight: bold\"> Connected to           </span>┃\n",
              "┡━━━━━━━━━━━━━━━━━━━━━━━━━━━╇━━━━━━━━━━━━━━━━━━━━━━━━╇━━━━━━━━━━━━━━━━╇━━━━━━━━━━━━━━━━━━━━━━━━┩\n",
              "│ input_layer_2             │ (<span style=\"color: #00d7ff; text-decoration-color: #00d7ff\">None</span>, <span style=\"color: #00af00; text-decoration-color: #00af00\">224</span>, <span style=\"color: #00af00; text-decoration-color: #00af00\">224</span>, <span style=\"color: #00af00; text-decoration-color: #00af00\">3</span>)    │              <span style=\"color: #00af00; text-decoration-color: #00af00\">0</span> │ -                      │\n",
              "│ (<span style=\"color: #0087ff; text-decoration-color: #0087ff\">InputLayer</span>)              │                        │                │                        │\n",
              "├───────────────────────────┼────────────────────────┼────────────────┼────────────────────────┤\n",
              "│ vgg16 (<span style=\"color: #0087ff; text-decoration-color: #0087ff\">Functional</span>)        │ (<span style=\"color: #00d7ff; text-decoration-color: #00d7ff\">None</span>, <span style=\"color: #00af00; text-decoration-color: #00af00\">7</span>, <span style=\"color: #00af00; text-decoration-color: #00af00\">7</span>, <span style=\"color: #00af00; text-decoration-color: #00af00\">512</span>)      │     <span style=\"color: #00af00; text-decoration-color: #00af00\">14,714,688</span> │ input_layer_2[<span style=\"color: #00af00; text-decoration-color: #00af00\">0</span>][<span style=\"color: #00af00; text-decoration-color: #00af00\">0</span>]    │\n",
              "├───────────────────────────┼────────────────────────┼────────────────┼────────────────────────┤\n",
              "│ flatten (<span style=\"color: #0087ff; text-decoration-color: #0087ff\">Flatten</span>)         │ (<span style=\"color: #00d7ff; text-decoration-color: #00d7ff\">None</span>, <span style=\"color: #00af00; text-decoration-color: #00af00\">25088</span>)          │              <span style=\"color: #00af00; text-decoration-color: #00af00\">0</span> │ vgg16[<span style=\"color: #00af00; text-decoration-color: #00af00\">0</span>][<span style=\"color: #00af00; text-decoration-color: #00af00\">0</span>]            │\n",
              "├───────────────────────────┼────────────────────────┼────────────────┼────────────────────────┤\n",
              "│ vi_t_model_layer_1        │ (<span style=\"color: #00d7ff; text-decoration-color: #00d7ff\">None</span>, <span style=\"color: #00af00; text-decoration-color: #00af00\">768</span>)            │              <span style=\"color: #00af00; text-decoration-color: #00af00\">0</span> │ input_layer_2[<span style=\"color: #00af00; text-decoration-color: #00af00\">0</span>][<span style=\"color: #00af00; text-decoration-color: #00af00\">0</span>]    │\n",
              "│ (<span style=\"color: #0087ff; text-decoration-color: #0087ff\">ViTModelLayer</span>)           │                        │                │                        │\n",
              "├───────────────────────────┼────────────────────────┼────────────────┼────────────────────────┤\n",
              "│ concatenate (<span style=\"color: #0087ff; text-decoration-color: #0087ff\">Concatenate</span>) │ (<span style=\"color: #00d7ff; text-decoration-color: #00d7ff\">None</span>, <span style=\"color: #00af00; text-decoration-color: #00af00\">25856</span>)          │              <span style=\"color: #00af00; text-decoration-color: #00af00\">0</span> │ flatten[<span style=\"color: #00af00; text-decoration-color: #00af00\">0</span>][<span style=\"color: #00af00; text-decoration-color: #00af00\">0</span>],         │\n",
              "│                           │                        │                │ vi_t_model_layer_1[<span style=\"color: #00af00; text-decoration-color: #00af00\">0</span>]… │\n",
              "├───────────────────────────┼────────────────────────┼────────────────┼────────────────────────┤\n",
              "│ dense_1 (<span style=\"color: #0087ff; text-decoration-color: #0087ff\">Dense</span>)           │ (<span style=\"color: #00d7ff; text-decoration-color: #00d7ff\">None</span>, <span style=\"color: #00af00; text-decoration-color: #00af00\">10</span>)             │        <span style=\"color: #00af00; text-decoration-color: #00af00\">258,570</span> │ concatenate[<span style=\"color: #00af00; text-decoration-color: #00af00\">0</span>][<span style=\"color: #00af00; text-decoration-color: #00af00\">0</span>]      │\n",
              "└───────────────────────────┴────────────────────────┴────────────────┴────────────────────────┘\n",
              "</pre>\n"
            ]
          },
          "metadata": {}
        },
        {
          "output_type": "display_data",
          "data": {
            "text/plain": [
              "\u001b[1m Total params: \u001b[0m\u001b[38;5;34m14,973,258\u001b[0m (57.12 MB)\n"
            ],
            "text/html": [
              "<pre style=\"white-space:pre;overflow-x:auto;line-height:normal;font-family:Menlo,'DejaVu Sans Mono',consolas,'Courier New',monospace\"><span style=\"font-weight: bold\"> Total params: </span><span style=\"color: #00af00; text-decoration-color: #00af00\">14,973,258</span> (57.12 MB)\n",
              "</pre>\n"
            ]
          },
          "metadata": {}
        },
        {
          "output_type": "display_data",
          "data": {
            "text/plain": [
              "\u001b[1m Trainable params: \u001b[0m\u001b[38;5;34m258,570\u001b[0m (1010.04 KB)\n"
            ],
            "text/html": [
              "<pre style=\"white-space:pre;overflow-x:auto;line-height:normal;font-family:Menlo,'DejaVu Sans Mono',consolas,'Courier New',monospace\"><span style=\"font-weight: bold\"> Trainable params: </span><span style=\"color: #00af00; text-decoration-color: #00af00\">258,570</span> (1010.04 KB)\n",
              "</pre>\n"
            ]
          },
          "metadata": {}
        },
        {
          "output_type": "display_data",
          "data": {
            "text/plain": [
              "\u001b[1m Non-trainable params: \u001b[0m\u001b[38;5;34m14,714,688\u001b[0m (56.13 MB)\n"
            ],
            "text/html": [
              "<pre style=\"white-space:pre;overflow-x:auto;line-height:normal;font-family:Menlo,'DejaVu Sans Mono',consolas,'Courier New',monospace\"><span style=\"font-weight: bold\"> Non-trainable params: </span><span style=\"color: #00af00; text-decoration-color: #00af00\">14,714,688</span> (56.13 MB)\n",
              "</pre>\n"
            ]
          },
          "metadata": {}
        }
      ]
    },
    {
      "cell_type": "code",
      "source": [
        "# Train the hybrid model\n",
        "EPOCHS = 5\n",
        "hybrid_history = hybrid_model.fit(train_ds,\n",
        "                                  validation_data = val_ds,\n",
        "                                  epochs=EPOCHS,\n",
        "                                  #callbacks=[early_stopping]\n",
        "                                  )"
      ],
      "metadata": {
        "colab": {
          "base_uri": "https://localhost:8080/"
        },
        "id": "J-NhQAx8l28e",
        "outputId": "9e4229fd-302e-4d55-bf32-96ef70b84e4e"
      },
      "execution_count": 10,
      "outputs": [
        {
          "output_type": "stream",
          "name": "stdout",
          "text": [
            "Epoch 1/5\n",
            "\u001b[1m400/400\u001b[0m \u001b[32m━━━━━━━━━━━━━━━━━━━━\u001b[0m\u001b[37m\u001b[0m \u001b[1m114s\u001b[0m 234ms/step - accuracy: 0.3785 - loss: 1.8926 - val_accuracy: 0.7880 - val_loss: 1.0539\n",
            "Epoch 2/5\n",
            "\u001b[1m400/400\u001b[0m \u001b[32m━━━━━━━━━━━━━━━━━━━━\u001b[0m\u001b[37m\u001b[0m \u001b[1m89s\u001b[0m 221ms/step - accuracy: 0.7893 - loss: 0.9683 - val_accuracy: 0.7950 - val_loss: 0.8265\n",
            "Epoch 3/5\n",
            "\u001b[1m400/400\u001b[0m \u001b[32m━━━━━━━━━━━━━━━━━━━━\u001b[0m\u001b[37m\u001b[0m \u001b[1m88s\u001b[0m 220ms/step - accuracy: 0.8516 - loss: 0.6973 - val_accuracy: 0.8550 - val_loss: 0.6076\n",
            "Epoch 4/5\n",
            "\u001b[1m400/400\u001b[0m \u001b[32m━━━━━━━━━━━━━━━━━━━━\u001b[0m\u001b[37m\u001b[0m \u001b[1m88s\u001b[0m 221ms/step - accuracy: 0.8850 - loss: 0.5432 - val_accuracy: 0.8650 - val_loss: 0.5307\n",
            "Epoch 5/5\n",
            "\u001b[1m400/400\u001b[0m \u001b[32m━━━━━━━━━━━━━━━━━━━━\u001b[0m\u001b[37m\u001b[0m \u001b[1m88s\u001b[0m 221ms/step - accuracy: 0.9054 - loss: 0.4458 - val_accuracy: 0.8980 - val_loss: 0.4415\n"
          ]
        }
      ]
    },
    {
      "cell_type": "code",
      "source": [
        "#Evaluate the hybrid model\n",
        "test_loss, test_accuracy = hybrid_model.evaluate(test_ds)\n",
        "print(f\"Test Loss: {test_loss:.2f}\\nTest Accuracy: {test_accuracy:.2f}\")"
      ],
      "metadata": {
        "colab": {
          "base_uri": "https://localhost:8080/"
        },
        "id": "8Dv-dzd4l9zA",
        "outputId": "aaf75c50-187a-49eb-bc85-66b527c3b2d0"
      },
      "execution_count": 11,
      "outputs": [
        {
          "output_type": "stream",
          "name": "stdout",
          "text": [
            "\u001b[1m100/100\u001b[0m \u001b[32m━━━━━━━━━━━━━━━━━━━━\u001b[0m\u001b[37m\u001b[0m \u001b[1m18s\u001b[0m 176ms/step - accuracy: 0.8567 - loss: 0.5104\n",
            "Test Loss: 0.50\n",
            "Test Accuracy: 0.86\n"
          ]
        }
      ]
    },
    {
      "cell_type": "markdown",
      "source": [
        "REPORT: The model shows good performance with a test accuracy of 86% and a moderate loss of 0.51, indicating effective learning but room for slight improvement."
      ],
      "metadata": {
        "id": "fj3yMtUF_fIB"
      }
    },
    {
      "cell_type": "markdown",
      "source": [
        "### Analysis and comparation\n",
        "\n",
        "1. Performance analysis:\n",
        "\n",
        "  -Compare the performance of the standar ViT and hybrid VGG16 + ViT models.\n",
        "\n",
        "  -Report quantitative metrics such as accuracy, loss, and training times.\n",
        "\n",
        "  -Visualize any training or validation differences with relevant plots."
      ],
      "metadata": {
        "id": "djipz7bW6OVw"
      }
    },
    {
      "cell_type": "code",
      "source": [
        "# Plot training and validation curves for both models\n",
        "plt.figure(figsize=(10, 8))\n",
        "plt.subplot(2, 2, 1)\n",
        "plt.title('Training accuracies')\n",
        "plt.plot(range(1, 6),vit_history.history['accuracy'],label='Standard ViT')\n",
        "plt.plot(range(1, 6),hybrid_history.history['accuracy'], label='VGG16 + ViT')\n",
        "plt.xlabel('Epoch')\n",
        "plt.ylabel('Accuracy')\n",
        "plt.legend()\n",
        "\n",
        "plt.subplot(2, 2, 2)\n",
        "plt.title('Training losses')\n",
        "plt.plot(range(1, 6),vit_history.history['loss'], label='Standard ViT')\n",
        "plt.plot(range(1, 6),hybrid_history.history['loss'], label='VGG16 + ViT')\n",
        "plt.xlabel('Epoch')\n",
        "plt.ylabel('Loss')\n",
        "plt.legend()\n",
        "\n",
        "plt.subplot(2, 2, 3)\n",
        "plt.title('Validation accuracies')\n",
        "plt.plot(range(1, 6),vit_history.history['val_accuracy'], label='Standard ViT')\n",
        "plt.plot(range(1, 6),hybrid_history.history['val_accuracy'], label='VGG16 + ViT')\n",
        "plt.xlabel('Epoch')\n",
        "plt.ylabel('Accuracy')\n",
        "plt.legend()\n",
        "\n",
        "plt.subplot(2, 2, 4)\n",
        "plt.title('Validation losses')\n",
        "plt.plot(range(1, 6),vit_history.history['val_loss'], label='Standard ViT')\n",
        "plt.plot(range(1, 6),hybrid_history.history['val_loss'], label='VGG16 + ViT')\n",
        "plt.xlabel('Epoch')\n",
        "plt.ylabel('Loss')\n",
        "plt.legend()\n",
        "\n",
        "plt.tight_layout()\n",
        "plt.show()"
      ],
      "metadata": {
        "colab": {
          "base_uri": "https://localhost:8080/",
          "height": 807
        },
        "id": "2NDlNFEql_lL",
        "outputId": "1e3ba8ac-75dc-45b3-c3b2-c2680c242aa5"
      },
      "execution_count": 15,
      "outputs": [
        {
          "output_type": "display_data",
          "data": {
            "text/plain": [
              "<Figure size 1000x800 with 4 Axes>"
            ],
            "image/png": "[encoded data removed]"
          },
          "metadata": {}
        }
      ]
    },
    {
      "cell_type": "code",
      "source": [
        "# Example training times (in seconds)\n",
        "models = ['Standard ViT', 'VGG16 + ViT']\n",
        "training_times = [325, 467]  # Sum of all epochs for both models\n",
        "\n",
        "# Plot bar chart\n",
        "plt.figure(figsize=(8, 5))\n",
        "plt.bar(models, training_times, color=['blue', 'green'])\n",
        "plt.title('Training Time Comparison')\n",
        "plt.ylabel('Training Time')\n",
        "plt.xlabel('Models')\n",
        "plt.show()"
      ],
      "metadata": {
        "colab": {
          "base_uri": "https://localhost:8080/",
          "height": 487
        },
        "id": "y-h31iRMClaL",
        "outputId": "a99d8fac-2c71-44ab-aec5-147d98c74b7f"
      },
      "execution_count": 17,
      "outputs": [
        {
          "output_type": "display_data",
          "data": {
            "text/plain": [
              "<Figure size 800x500 with 1 Axes>"
            ],
            "image/png": "[encoded data removed]"
          },
          "metadata": {}
        }
      ]
    },
    {
      "cell_type": "markdown",
      "source": [
        "REPORT: VGG16 + ViT performs better during training, with faster convergence, lower training loss, and competitive validation accuracy. It benefits from combining local feature extraction (VGG16) with global attention mechanisms (ViT). Meanwhile, Standard ViT shows slightly better generalization (validation accuracy) in the final epoch, indicating robustness in its architecture.\n",
        "\n",
        "Finally, VGG16 + ViT requires more training time because it involves additional computation from the VGG16 feature extractor, which adds complexity to the model."
      ],
      "metadata": {
        "id": "OWAJ0N7u_sl4"
      }
    },
    {
      "cell_type": "markdown",
      "source": [
        "2. Discussion\n",
        "\n",
        "  -Reflect on the performance of each model, describing which model performed better and hypothesize why.\n",
        "\n",
        "\n",
        "*   Standard ViT is fasterand generalizes better with higher validation accuracy, making it suitable for time-sensitive tasks. VGG16 + ViT achieves better training accuracy and lower loss but requires more time.\n",
        "\n",
        "  -Discuss trade-off like computational complexity, training time, and memory usage.\n",
        "\n",
        "*   VGG16 + ViT has higher computational complexity, longer training time, and greater memory usage due to its hybrid architecture, offering richer features but risking overfitting. Standard ViT is faster, more efficient, and generalizes better, making it ideal for resource-constrained tasks.\n",
        "\n",
        "  -Suggest possible ways to further improve model performance, like data augmentation or fine-tuning additional layers in VGG16.\n",
        "\n",
        "*   To improve performance, use data augmentation, fine-tune more VGG16 layers, apply dropout to reduce overfitting, and experiment with learning rates or optimizers for better convergence.\n",
        "\n",
        "\n",
        "\n"
      ],
      "metadata": {
        "id": "Y04k7Ks5_8Yd"
      }
    }
  ]
}